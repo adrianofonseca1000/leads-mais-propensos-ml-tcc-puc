{
 "cells": [
  {
   "cell_type": "markdown",
   "id": "ae3f0917",
   "metadata": {},
   "source": [
    "<center><h1 style=\"font-size:2em;color:#2467C0\"><h1 style=\"font-size:2em;color:#2467C0\"> Model Tuning</h1>"
   ]
  },
  {
   "cell_type": "markdown",
   "id": "c379b7dc",
   "metadata": {},
   "source": [
    "## Objetivo deste estudo: \n",
    "\n",
    "* O intuito deste notebook é apresentar de forma clara e sucinta o Tuning de modelos de Machine Learning orientados aos dados."
   ]
  },
  {
   "cell_type": "markdown",
   "id": "7df490ee",
   "metadata": {},
   "source": [
    "## Importar bibliotecas\n",
    "<br> Começaremos importando as bibliotecas Python que usaremos nesta análise. Essas bibliotecas incluem:\n",
    "<ul>\n",
    "<li> <b> pandas </b> e <b> numpy </b> para ingestão e manipulação de dados. </li>\n",
    "<li> <b> matplotlib </b> e <b> seaborn </b> para visualização de dados </li>\n",
    "<li> <b> Sklearn </b> que contém funções para execução das metricas, modelo e tuning </li>\n",
    "\n",
    "</ul>"
   ]
  },
  {
   "cell_type": "code",
   "execution_count": 108,
   "id": "e490a107",
   "metadata": {},
   "outputs": [],
   "source": [
    "# Bibliotecas para criação e manipulação de DATAFRAMES e Algebra \n",
    "import pandas as pd \n",
    "import numpy as np\n",
    "\n",
    "# Bibliotecas para geração de gráficos\n",
    "import matplotlib.pyplot as plt \n",
    "import seaborn as sns\n",
    "\n",
    "# Bibliotecas para execução da estratificação dos dados e tuning\n",
    "from sklearn.model_selection import StratifiedKFold, GridSearchCV\n",
    "\n",
    "# Bibliotecas para execução da redução de dimensionalidade\n",
    "from sklearn.preprocessing import MinMaxScaler\n",
    "\n",
    "# Bibliotecas para execução dos modelos\n",
    "from sklearn.svm import SVC\n",
    "from sklearn.naive_bayes import GaussianNB\n",
    "from sklearn.ensemble import RandomForestClassifier\n",
    "\n",
    "# Bibliotecas para execução das metricas\n",
    "from sklearn.metrics import classification_report, confusion_matrix, precision_score, accuracy_score, recall_score, f1_score, precision_recall_curve, roc_curve, roc_auc_score\n",
    "\n",
    "import warnings\n",
    "warnings.filterwarnings(\"ignore\")"
   ]
  },
  {
   "cell_type": "markdown",
   "id": "3c9af95e",
   "metadata": {},
   "source": [
    "* ROC curve"
   ]
  },
  {
   "cell_type": "code",
   "execution_count": 109,
   "id": "ba4f813b",
   "metadata": {},
   "outputs": [],
   "source": [
    "def plot_roc_curve(fpr, tpr):\n",
    "    plt.plot(fpr, tpr, color='orange', label='ROC')\n",
    "    plt.plot([0, 1], [0, 1], color='darkblue', linestyle='--')\n",
    "    plt.xlabel('False Positive Rate')\n",
    "    plt.ylabel('True Positive Rate')\n",
    "    plt.title('Receiver Operating Characteristic (ROC) Curve')\n",
    "    plt.legend()\n",
    "    plt.show()"
   ]
  },
  {
   "cell_type": "markdown",
   "id": "06b444e5",
   "metadata": {},
   "source": [
    "* Precision-recall curve"
   ]
  },
  {
   "cell_type": "code",
   "execution_count": 110,
   "id": "285af75d",
   "metadata": {},
   "outputs": [],
   "source": [
    "def plot_precision_recall():\n",
    "    plt.step(recall, precision, color = 'b', alpha = 0.2,\n",
    "             where = 'post')\n",
    "    plt.fill_between(recall, precision, step ='post', alpha = 0.2,\n",
    "                 color = 'b')\n",
    "\n",
    "    plt.plot(recall, precision, linewidth=2)\n",
    "    plt.xlim([0.0,1])\n",
    "    plt.ylim([0.0,1.05])\n",
    "    plt.xlabel('Recall')\n",
    "    plt.ylabel('Precision')\n",
    "    plt.title('Precision Recall Curve')\n",
    "    plt.show();"
   ]
  },
  {
   "cell_type": "markdown",
   "id": "44e9199c",
   "metadata": {},
   "source": [
    "* Carregando os dados .csv\n",
    "\n",
    "* Agora, precisaremos ler o conjunto de dados usando os comandos abaixo."
   ]
  },
  {
   "cell_type": "code",
   "execution_count": 111,
   "id": "5ee2f262",
   "metadata": {},
   "outputs": [
    {
     "name": "stdout",
     "output_type": "stream",
     "text": [
      "This one dataset it has 16376 rows e 27 columns\n"
     ]
    }
   ],
   "source": [
    "# Carregando os dados\n",
    "data = pd.read_csv('data.csv', sep=';')\n",
    "print ('This one dataset it has %s rows e %s columns' % (data.shape[0], data.shape[1]))"
   ]
  },
  {
   "cell_type": "code",
   "execution_count": 112,
   "id": "b84d57b7",
   "metadata": {},
   "outputs": [],
   "source": [
    "# Definir X and Y \n",
    "Y = np.array(data.venda.tolist())\n",
    "df = data.drop('venda', axis=1)\n",
    "X = np.array(df.to_numpy())\n",
    "seed=42"
   ]
  },
  {
   "cell_type": "code",
   "execution_count": 113,
   "id": "9df3cdd6",
   "metadata": {},
   "outputs": [
    {
     "data": {
      "text/plain": [
       "(16376, 26)"
      ]
     },
     "execution_count": 113,
     "metadata": {},
     "output_type": "execute_result"
    }
   ],
   "source": [
    "X.shape"
   ]
  },
  {
   "cell_type": "code",
   "execution_count": 114,
   "id": "9b1fdd0b",
   "metadata": {},
   "outputs": [
    {
     "data": {
      "text/plain": [
       "(16376,)"
      ]
     },
     "execution_count": 114,
     "metadata": {},
     "output_type": "execute_result"
    }
   ],
   "source": [
    "Y.shape"
   ]
  },
  {
   "cell_type": "markdown",
   "id": "3b9f9eb8",
   "metadata": {},
   "source": [
    "* StratifiedKFold"
   ]
  },
  {
   "cell_type": "code",
   "execution_count": 115,
   "id": "e6bf5639",
   "metadata": {},
   "outputs": [
    {
     "name": "stdout",
     "output_type": "stream",
     "text": [
      "TRAIN: [    0     1     2 ... 16371 16373 16374] TEST: [   11    12    17 ... 16370 16372 16375]\n",
      "TRAIN: [    0     1     4 ... 16371 16372 16375] TEST: [    2     3     5 ... 16368 16373 16374]\n",
      "TRAIN: [    0     2     3 ... 16373 16374 16375] TEST: [    1     4    10 ... 16352 16365 16371]\n",
      "TRAIN: [    0     1     2 ... 16373 16374 16375] TEST: [    6    13    16 ... 16361 16363 16367]\n",
      "TRAIN: [    1     2     3 ... 16373 16374 16375] TEST: [    0     7     9 ... 16360 16364 16366]\n"
     ]
    }
   ],
   "source": [
    "# StratifiedKFold k = 5\n",
    "skf = StratifiedKFold(n_splits=5, \n",
    "                      shuffle=True, \n",
    "                      random_state=seed)\n",
    "for train_index, test_index in skf.split(X, Y):\n",
    "    print(\"TRAIN:\", train_index,  \"TEST:\", test_index)\n",
    "    X_train, X_test = X[train_index], X[test_index]\n",
    "    Y_train, Y_test = Y[train_index], Y[test_index]"
   ]
  },
  {
   "cell_type": "code",
   "execution_count": 116,
   "id": "ec15727c",
   "metadata": {},
   "outputs": [
    {
     "data": {
      "text/plain": [
       "(13101, 26)"
      ]
     },
     "execution_count": 116,
     "metadata": {},
     "output_type": "execute_result"
    }
   ],
   "source": [
    "X_train.shape"
   ]
  },
  {
   "cell_type": "code",
   "execution_count": 117,
   "id": "625523b8",
   "metadata": {},
   "outputs": [
    {
     "data": {
      "text/plain": [
       "(3275, 26)"
      ]
     },
     "execution_count": 117,
     "metadata": {},
     "output_type": "execute_result"
    }
   ],
   "source": [
    "X_test.shape"
   ]
  },
  {
   "cell_type": "code",
   "execution_count": 118,
   "id": "ae81ca8c",
   "metadata": {},
   "outputs": [
    {
     "data": {
      "text/plain": [
       "(13101,)"
      ]
     },
     "execution_count": 118,
     "metadata": {},
     "output_type": "execute_result"
    }
   ],
   "source": [
    "Y_train.shape"
   ]
  },
  {
   "cell_type": "code",
   "execution_count": 119,
   "id": "c7352e2c",
   "metadata": {},
   "outputs": [
    {
     "data": {
      "text/plain": [
       "(3275,)"
      ]
     },
     "execution_count": 119,
     "metadata": {},
     "output_type": "execute_result"
    }
   ],
   "source": [
    "Y_test.shape"
   ]
  },
  {
   "cell_type": "markdown",
   "id": "6139aacc",
   "metadata": {},
   "source": [
    "* MinMaxScaler"
   ]
  },
  {
   "cell_type": "code",
   "execution_count": 120,
   "id": "73715de2",
   "metadata": {},
   "outputs": [],
   "source": [
    "# Normalização Min-Max dos dados\n",
    "min_max_scaler = MinMaxScaler()\n",
    "min_max_scaler.fit(X_train)\n",
    "\n",
    "# Ajuste apenas nos dados de treinamento\n",
    "X_train = min_max_scaler.transform(X_train)\n",
    "\n",
    "# Aplica a mesma transformação aos dados de teste\n",
    "X_test = min_max_scaler.transform(X_test) "
   ]
  },
  {
   "cell_type": "code",
   "execution_count": 121,
   "id": "b16b6667",
   "metadata": {},
   "outputs": [
    {
     "data": {
      "text/plain": [
       "array([[1.        , 0.01      , 1.        , ..., 0.05555556, 0.        ,\n",
       "        0.        ],\n",
       "       [0.75      , 0.01      , 1.        , ..., 0.        , 0.        ,\n",
       "        0.        ],\n",
       "       [1.        , 0.34      , 0.        , ..., 0.        , 0.33333333,\n",
       "        0.36111111],\n",
       "       ...,\n",
       "       [1.        , 0.41      , 0.        , ..., 0.        , 0.        ,\n",
       "        0.        ],\n",
       "       [1.        , 0.4       , 1.        , ..., 0.16666667, 0.        ,\n",
       "        0.        ],\n",
       "       [1.        , 0.01      , 1.        , ..., 0.        , 0.        ,\n",
       "        0.02777778]])"
      ]
     },
     "execution_count": 121,
     "metadata": {},
     "output_type": "execute_result"
    }
   ],
   "source": [
    "X_train"
   ]
  },
  {
   "cell_type": "code",
   "execution_count": 122,
   "id": "8a3d6e0d",
   "metadata": {},
   "outputs": [
    {
     "data": {
      "text/plain": [
       "array([[0.        , 0.48      , 0.        , ..., 0.        , 0.        ,\n",
       "        0.16666667],\n",
       "       [0.25      , 0.32      , 1.        , ..., 0.16666667, 0.        ,\n",
       "        0.        ],\n",
       "       [1.        , 0.01      , 0.        , ..., 0.        , 0.        ,\n",
       "        0.        ],\n",
       "       ...,\n",
       "       [0.5       , 0.21      , 1.        , ..., 0.        , 0.        ,\n",
       "        0.02777778],\n",
       "       [1.        , 0.51      , 1.        , ..., 0.        , 0.        ,\n",
       "        0.        ],\n",
       "       [0.375     , 0.01      , 1.        , ..., 0.11111111, 0.12820513,\n",
       "        0.        ]])"
      ]
     },
     "execution_count": 122,
     "metadata": {},
     "output_type": "execute_result"
    }
   ],
   "source": [
    "X_test"
   ]
  },
  {
   "cell_type": "markdown",
   "id": "d6b9492a",
   "metadata": {},
   "source": [
    "* Tuning e Modelos"
   ]
  },
  {
   "cell_type": "markdown",
   "id": "606df456",
   "metadata": {},
   "source": [
    "* GridSearchCV e Suport Vector Machine"
   ]
  },
  {
   "cell_type": "code",
   "execution_count": 123,
   "id": "a11f2faf",
   "metadata": {},
   "outputs": [],
   "source": [
    "param_grid_svm = {\n",
    "    'C': [0.1, 1, 10, 100], \n",
    "    'gamma': [1,0.1, 0.01, 0.001],\n",
    "    'kernel': ['rbf', 'poly', 'sigmoid', 'linear']\n",
    "}"
   ]
  },
  {
   "cell_type": "code",
   "execution_count": 124,
   "id": "8e309f2b",
   "metadata": {},
   "outputs": [
    {
     "name": "stdout",
     "output_type": "stream",
     "text": [
      "Fitting 5 folds for each of 64 candidates, totalling 320 fits\n",
      "The best parameters for using this model SVM is {'C': 100, 'gamma': 1, 'kernel': 'sigmoid'}\n"
     ]
    }
   ],
   "source": [
    "# Ajustar o modelo usando X como dados de treinamento e y como valores de destino\n",
    "svm = SVC(gamma='auto', random_state=seed)\n",
    "svm = svm.fit(X_train, Y_train)\n",
    "\n",
    "# Best parameters SVM\n",
    "gs_svm = GridSearchCV(estimator = svm, param_grid = param_grid_svm, scoring = 'recall', verbose = 10, n_jobs = -1)\n",
    "gs_svm = gs_svm.fit(X_train, Y_train)\n",
    "best_parameters = gs_svm.best_params_\n",
    "print(\"The best parameters for using this model SVM is\", best_parameters)"
   ]
  },
  {
   "cell_type": "markdown",
   "id": "8e0954a9",
   "metadata": {},
   "source": [
    "* Modelo Suport Vector Machine"
   ]
  },
  {
   "cell_type": "code",
   "execution_count": 125,
   "id": "4621cf83",
   "metadata": {},
   "outputs": [],
   "source": [
    "# Ajustar o modelo usando X como dados de treinamento e y como valores de destino\n",
    "svm = SVC(C=100, gamma=1, kernel='sigmoid', probability=True, random_state=seed)\n",
    "svm = svm.fit(X_train, Y_train)\n",
    "\n",
    "# Modelo prevendo os valores para o conjunto de teste\n",
    "Y_pred_svm = svm.predict(X_test)\n",
    "\n",
    "# Prever as probabilidades de classe para o conjunto de teste\n",
    "Y_score_svm = svm.predict_proba(X_test)[:, 1]"
   ]
  },
  {
   "cell_type": "code",
   "execution_count": 126,
   "id": "cc73340e",
   "metadata": {},
   "outputs": [
    {
     "name": "stdout",
     "output_type": "stream",
     "text": [
      "Confusion matrix:\n",
      "[[1729  580]\n",
      " [ 612  354]]\n"
     ]
    }
   ],
   "source": [
    "# Matriz de confusão\n",
    "print(\"Confusion matrix:\")\n",
    "print(confusion_matrix(Y_test, Y_pred_svm))"
   ]
  },
  {
   "cell_type": "code",
   "execution_count": 127,
   "id": "a68efe32",
   "metadata": {},
   "outputs": [
    {
     "name": "stdout",
     "output_type": "stream",
     "text": [
      "Classification report:\n",
      "              precision    recall  f1-score   support\n",
      "\n",
      "           0       0.74      0.75      0.74      2309\n",
      "           1       0.38      0.37      0.37       966\n",
      "\n",
      "    accuracy                           0.64      3275\n",
      "   macro avg       0.56      0.56      0.56      3275\n",
      "weighted avg       0.63      0.64      0.63      3275\n",
      "\n"
     ]
    }
   ],
   "source": [
    "# Reportar para outras medidas de classificação\n",
    "print(\"Classification report:\")\n",
    "print(classification_report(Y_test, Y_pred_svm))"
   ]
  },
  {
   "cell_type": "code",
   "execution_count": 128,
   "id": "cef8e16c",
   "metadata": {},
   "outputs": [
    {
     "name": "stdout",
     "output_type": "stream",
     "text": [
      "A área coberta pela curva é a área entre a linha laranja (ROC) e o eixo. Esta área coberta é AUC. Quanto maior a área coberta, melhor os modelos de aprendizado de máquina distinguem as classes dadas. O valor ideal para AUC é 1.\n"
     ]
    },
    {
     "data": {
      "image/png": "[encoded data removed]",
      "text/plain": [
       "<Figure size 432x288 with 1 Axes>"
      ]
     },
     "metadata": {
      "needs_background": "light"
     },
     "output_type": "display_data"
    },
    {
     "name": "stdout",
     "output_type": "stream",
     "text": [
      "AUC: 0.44\n"
     ]
    }
   ],
   "source": [
    "print('A área coberta pela curva é a área entre a linha laranja (ROC) e o eixo. Esta área coberta é AUC. Quanto maior a área coberta, melhor os modelos de aprendizado de máquina distinguem as classes dadas. O valor ideal para AUC é 1.')\n",
    "# ROC curve\n",
    "fpr_svm, tpr_svm, thresholds = roc_curve(Y_test, Y_score_svm)\n",
    "plot_roc_curve(fpr_svm, tpr_svm)\n",
    "auc = roc_auc_score(Y_test, Y_score_svm)\n",
    "print('AUC: %.2f' % auc)"
   ]
  },
  {
   "cell_type": "code",
   "execution_count": 129,
   "id": "4f2891af",
   "metadata": {},
   "outputs": [
    {
     "name": "stdout",
     "output_type": "stream",
     "text": [
      "Plot the Precision-Recall curve\n"
     ]
    },
    {
     "data": {
      "image/png": "[encoded data removed]",
      "text/plain": [
       "<Figure size 432x288 with 1 Axes>"
      ]
     },
     "metadata": {
      "needs_background": "light"
     },
     "output_type": "display_data"
    }
   ],
   "source": [
    "# Precision-recall curve\n",
    "print('Plot the Precision-Recall curve')\n",
    "precision, recall, thresholds = precision_recall_curve(Y_test, Y_score_svm)\n",
    "plot_precision_recall()"
   ]
  },
  {
   "cell_type": "markdown",
   "id": "b6b4dc0b",
   "metadata": {},
   "source": [
    "* GridSearchCV e Gaussian Naive Bayes"
   ]
  },
  {
   "cell_type": "code",
   "execution_count": 130,
   "id": "31142807",
   "metadata": {},
   "outputs": [],
   "source": [
    "param_grid_gnb = { \n",
    "    'var_smoothing': np.logspace(0,-9, num=100) \n",
    "}"
   ]
  },
  {
   "cell_type": "code",
   "execution_count": 131,
   "id": "02e39ebe",
   "metadata": {},
   "outputs": [
    {
     "name": "stdout",
     "output_type": "stream",
     "text": [
      "Fitting 5 folds for each of 100 candidates, totalling 500 fits\n",
      "The best parameters for using this model GNB is {'var_smoothing': 5.3366992312063123e-05}\n"
     ]
    }
   ],
   "source": [
    "# Ajustar o modelo usando X como dados de treinamento e y como valores de destino\n",
    "gnb = GaussianNB ()\n",
    "gnb = gnb.fit(X_train, Y_train)\n",
    "\n",
    "# Best parameters GNB\n",
    "gs_gnb = GridSearchCV(estimator = gnb, param_grid = param_grid_gnb, scoring = 'recall', verbose = 10, n_jobs = -1)\n",
    "gs_gnb = gs_gnb.fit(X_train, Y_train)\n",
    "best_parameters = gs_gnb.best_params_\n",
    "print(\"The best parameters for using this model GNB is\", best_parameters)"
   ]
  },
  {
   "cell_type": "markdown",
   "id": "007f5a0f",
   "metadata": {},
   "source": [
    "* Modelo Gaussian Naive Bayes"
   ]
  },
  {
   "cell_type": "code",
   "execution_count": 132,
   "id": "e15db088",
   "metadata": {},
   "outputs": [],
   "source": [
    "# Ajustar o modelo usando X como dados de treinamento e y como valores de destino\n",
    "gnb = GaussianNB (var_smoothing=5.3366992312063123e-05)\n",
    "gnb = gnb.fit(X_train, Y_train)\n",
    "\n",
    "# Modelo prevendo os valores para o conjunto de teste\n",
    "Y_pred_gnb = gnb.predict(X_test)\n",
    "\n",
    "# Prever as probabilidades de classe para o conjunto de teste\n",
    "Y_score_gnb = gnb.predict_proba(X_test)[:, 1]"
   ]
  },
  {
   "cell_type": "code",
   "execution_count": 133,
   "id": "a0aeda79",
   "metadata": {},
   "outputs": [
    {
     "name": "stdout",
     "output_type": "stream",
     "text": [
      "Confusion matrix:\n",
      "[[1796  513]\n",
      " [ 577  389]]\n"
     ]
    }
   ],
   "source": [
    "# Matriz de confusão\n",
    "print(\"Confusion matrix:\")\n",
    "print(confusion_matrix(Y_test, Y_pred_gnb))"
   ]
  },
  {
   "cell_type": "code",
   "execution_count": 134,
   "id": "d3f9ee2a",
   "metadata": {},
   "outputs": [
    {
     "name": "stdout",
     "output_type": "stream",
     "text": [
      "Classification report:\n",
      "              precision    recall  f1-score   support\n",
      "\n",
      "           0       0.76      0.78      0.77      2309\n",
      "           1       0.43      0.40      0.42       966\n",
      "\n",
      "    accuracy                           0.67      3275\n",
      "   macro avg       0.59      0.59      0.59      3275\n",
      "weighted avg       0.66      0.67      0.66      3275\n",
      "\n"
     ]
    }
   ],
   "source": [
    "# Reportar para outras medidas de classificação\n",
    "print(\"Classification report:\")\n",
    "print(classification_report(Y_test, Y_pred_gnb))"
   ]
  },
  {
   "cell_type": "code",
   "execution_count": 135,
   "id": "c4d4087c",
   "metadata": {},
   "outputs": [
    {
     "name": "stdout",
     "output_type": "stream",
     "text": [
      "A área coberta pela curva é a área entre a linha laranja (ROC) e o eixo. Esta área coberta é AUC. Quanto maior a área coberta, melhor os modelos de aprendizado de máquina distinguem as classes dadas. O valor ideal para AUC é 1.\n"
     ]
    },
    {
     "data": {
      "image/png": "[encoded data removed]",
      "text/plain": [
       "<Figure size 432x288 with 1 Axes>"
      ]
     },
     "metadata": {
      "needs_background": "light"
     },
     "output_type": "display_data"
    },
    {
     "name": "stdout",
     "output_type": "stream",
     "text": [
      "AUC: 0.64\n"
     ]
    }
   ],
   "source": [
    "print('A área coberta pela curva é a área entre a linha laranja (ROC) e o eixo. Esta área coberta é AUC. Quanto maior a área coberta, melhor os modelos de aprendizado de máquina distinguem as classes dadas. O valor ideal para AUC é 1.')\n",
    "# ROC curve\n",
    "fpr_gnb, tpr_gnb, thresholds = roc_curve(Y_test, Y_score_gnb)\n",
    "plot_roc_curve(fpr_gnb, tpr_gnb)\n",
    "auc = roc_auc_score(Y_test, Y_score_gnb)\n",
    "print('AUC: %.2f' % auc)"
   ]
  },
  {
   "cell_type": "code",
   "execution_count": 136,
   "id": "3a8659e8",
   "metadata": {},
   "outputs": [
    {
     "name": "stdout",
     "output_type": "stream",
     "text": [
      "Plot the Precision-Recall curve\n"
     ]
    },
    {
     "data": {
      "image/png": "[encoded data removed]",
      "text/plain": [
       "<Figure size 432x288 with 1 Axes>"
      ]
     },
     "metadata": {
      "needs_background": "light"
     },
     "output_type": "display_data"
    }
   ],
   "source": [
    "# Precision-recall curve\n",
    "print('Plot the Precision-Recall curve')\n",
    "precision, recall, thresholds = precision_recall_curve(Y_test, Y_score_gnb)\n",
    "plot_precision_recall()"
   ]
  },
  {
   "cell_type": "markdown",
   "id": "8fdb618e",
   "metadata": {},
   "source": [
    "* GridSearchCV e RandomForestClassifier"
   ]
  },
  {
   "cell_type": "code",
   "execution_count": 137,
   "id": "fa877145",
   "metadata": {},
   "outputs": [],
   "source": [
    "param_grid_rfc = {\n",
    "    'n_estimators': [100, 150, 200],\n",
    "    'max_features': [2, 3, 5, 10, 13, 15, 20, 23, 27],\n",
    "    'max_features': ['auto', 'sqrt', 'log2'],\n",
    "    'min_samples_leaf': [2, 5, 10, 20],\n",
    "    'min_samples_split': [2, 5, 10, 20],\n",
    "    'max_depth' : [4,5,6,7,8],\n",
    "    'criterion' :['gini', 'entropy']\n",
    "}"
   ]
  },
  {
   "cell_type": "code",
   "execution_count": 138,
   "id": "86f340f2",
   "metadata": {},
   "outputs": [
    {
     "name": "stdout",
     "output_type": "stream",
     "text": [
      "Fitting 5 folds for each of 1440 candidates, totalling 7200 fits\n",
      "The best parameters for using this model RFC is {'criterion': 'gini', 'max_depth': 8, 'max_features': 'auto', 'min_samples_leaf': 5, 'min_samples_split': 20, 'n_estimators': 100}\n"
     ]
    }
   ],
   "source": [
    "# Ajustar o modelo usando X como dados de treinamento e y como valores de destino\n",
    "rfc = RandomForestClassifier (n_estimators=100, random_state=seed)\n",
    "rfc = rfc.fit(X_train, Y_train)\n",
    "\n",
    "# Best parameters RFC\n",
    "gs_rfc = GridSearchCV(estimator = rfc, param_grid = param_grid_rfc, scoring = 'recall', verbose = 10, n_jobs = -1)\n",
    "gs_rfc = gs_rfc.fit(X_train, Y_train)\n",
    "best_parameters = gs_rfc.best_params_\n",
    "print(\"The best parameters for using this model RFC is\", best_parameters)"
   ]
  },
  {
   "cell_type": "markdown",
   "id": "92481b80",
   "metadata": {},
   "source": [
    "* Modelo RandomForestClassifier"
   ]
  },
  {
   "cell_type": "code",
   "execution_count": 139,
   "id": "f758cd4c",
   "metadata": {},
   "outputs": [],
   "source": [
    "# Ajustar o modelo usando X como dados de treinamento e y como valores de destino\n",
    "rfc = RandomForestClassifier (criterion='gini', max_depth=8, max_features='auto', min_samples_leaf=5, min_samples_split=20, n_estimators=100, class_weight='balanced_subsample', random_state = seed, n_jobs = -1)\n",
    "rfc = rfc.fit(X_train, Y_train)\n",
    "\n",
    "# Modelo prevendo os valores para o conjunto de teste\n",
    "Y_pred_rfc = rfc.predict(X_test)\n",
    "\n",
    "# Prever as probabilidades de classe para o conjunto de teste\n",
    "Y_score_rfc = rfc.predict_proba(X_test)[:, 1]"
   ]
  },
  {
   "cell_type": "code",
   "execution_count": 140,
   "id": "e94798ba",
   "metadata": {},
   "outputs": [
    {
     "name": "stdout",
     "output_type": "stream",
     "text": [
      "Confusion matrix:\n",
      "[[1496  813]\n",
      " [ 322  644]]\n"
     ]
    }
   ],
   "source": [
    "# Matriz de confusão\n",
    "print(\"Confusion matrix:\")\n",
    "print(confusion_matrix(Y_test, Y_pred_rfc))"
   ]
  },
  {
   "cell_type": "code",
   "execution_count": 141,
   "id": "6a0fb662",
   "metadata": {},
   "outputs": [
    {
     "name": "stdout",
     "output_type": "stream",
     "text": [
      "Classification report:\n",
      "              precision    recall  f1-score   support\n",
      "\n",
      "           0       0.82      0.65      0.72      2309\n",
      "           1       0.44      0.67      0.53       966\n",
      "\n",
      "    accuracy                           0.65      3275\n",
      "   macro avg       0.63      0.66      0.63      3275\n",
      "weighted avg       0.71      0.65      0.67      3275\n",
      "\n"
     ]
    }
   ],
   "source": [
    "# Reportar para outras medidas de classificação\n",
    "print(\"Classification report:\")\n",
    "print(classification_report(Y_test, Y_pred_rfc))"
   ]
  },
  {
   "cell_type": "code",
   "execution_count": 142,
   "id": "06c1d257",
   "metadata": {},
   "outputs": [
    {
     "name": "stdout",
     "output_type": "stream",
     "text": [
      "A área coberta pela curva é a área entre a linha laranja (ROC) e o eixo. Esta área coberta é AUC. Quanto maior a área coberta, melhor os modelos de aprendizado de máquina distinguem as classes dadas. O valor ideal para AUC é 1.\n"
     ]
    },
    {
     "data": {
      "image/png": "[encoded data removed]",
      "text/plain": [
       "<Figure size 432x288 with 1 Axes>"
      ]
     },
     "metadata": {
      "needs_background": "light"
     },
     "output_type": "display_data"
    },
    {
     "name": "stdout",
     "output_type": "stream",
     "text": [
      "AUC: 0.71\n"
     ]
    }
   ],
   "source": [
    "print('A área coberta pela curva é a área entre a linha laranja (ROC) e o eixo. Esta área coberta é AUC. Quanto maior a área coberta, melhor os modelos de aprendizado de máquina distinguem as classes dadas. O valor ideal para AUC é 1.')\n",
    "# ROC curve\n",
    "fpr_rfc, tpr_rfc, thresholds = roc_curve(Y_test, Y_score_rfc)\n",
    "plot_roc_curve(fpr_rfc, tpr_rfc)\n",
    "auc = roc_auc_score(Y_test, Y_score_rfc)\n",
    "print('AUC: %.2f' % auc)"
   ]
  },
  {
   "cell_type": "code",
   "execution_count": 143,
   "id": "31848a12",
   "metadata": {},
   "outputs": [
    {
     "name": "stdout",
     "output_type": "stream",
     "text": [
      "Plot the Precision-Recall curve\n"
     ]
    },
    {
     "data": {
      "image/png": "[encoded data removed]",
      "text/plain": [
       "<Figure size 432x288 with 1 Axes>"
      ]
     },
     "metadata": {
      "needs_background": "light"
     },
     "output_type": "display_data"
    }
   ],
   "source": [
    "# Precision-recall curve\n",
    "print('Plot the Precision-Recall curve')\n",
    "precision, recall, thresholds = precision_recall_curve(Y_test, Y_score_rfc)\n",
    "plot_precision_recall()"
   ]
  },
  {
   "cell_type": "code",
   "execution_count": 146,
   "id": "4c592964",
   "metadata": {},
   "outputs": [
    {
     "data": {
      "image/png": "[encoded data removed]",
      "text/plain": [
       "<Figure size 432x288 with 1 Axes>"
      ]
     },
     "metadata": {
      "needs_background": "light"
     },
     "output_type": "display_data"
    }
   ],
   "source": [
    "plt.plot([0, 1], [0, 1], 'k--')\n",
    "plt.plot(fpr_svm, tpr_svm, label='svm')\n",
    "plt.plot(fpr_gnb, tpr_gnb, label='gnb')\n",
    "plt.plot(fpr_rfc, tpr_rfc, label='rfc')\n",
    "plt.xlabel('False positive rate')\n",
    "plt.ylabel('True positive rate')\n",
    "plt.title('ROC curve')\n",
    "plt.legend(loc='best')\n",
    "plt.show()"
   ]
  }
 ],
 "metadata": {
  "kernelspec": {
   "display_name": "Python 3 (ipykernel)",
   "language": "python",
   "name": "python3"
  },
  "language_info": {
   "codemirror_mode": {
    "name": "ipython",
    "version": 3
   },
   "file_extension": ".py",
   "mimetype": "text/x-python",
   "name": "python",
   "nbconvert_exporter": "python",
   "pygments_lexer": "ipython3",
   "version": "3.9.7"
  }
 },
 "nbformat": 4,
 "nbformat_minor": 5
}
