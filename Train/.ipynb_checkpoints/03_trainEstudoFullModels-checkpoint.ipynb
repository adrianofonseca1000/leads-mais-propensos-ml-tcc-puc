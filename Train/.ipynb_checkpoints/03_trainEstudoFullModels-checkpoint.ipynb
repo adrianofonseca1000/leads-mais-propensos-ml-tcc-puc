{
 "cells": [
  {
   "cell_type": "markdown",
   "metadata": {},
   "source": [
    "<br><br><center><h1 style=\"font-size:4em;color:#2467C0\">Modelo</h1></center>\n",
    "<br>"
   ]
  },
  {
   "cell_type": "markdown",
   "metadata": {},
   "source": [
    "## Objetivo da Story 3: \n",
    "\n",
    "Desenvolver Modelo Preditivo para operação Chat."
   ]
  },
  {
   "cell_type": "markdown",
   "metadata": {},
   "source": [
    "## Importar bibliotecas\n",
    "<br> Começaremos importando as bibliotecas Python que usaremos nesta análise. Essas bibliotecas incluem:\n",
    "<ul>\n",
    "<li> <b> pyodbc </b> drive odbc para carregar os dados. </li>\n",
    "<li> <b> pandas </b> e <b> numpy </b> para ingestão e manipulação de dados. </li>\n",
    "<li> <b> matplotlib </b> e <b> seaborn </b> para visualização de dados </li>\n",
    "\n",
    "</ul>"
   ]
  },
  {
   "cell_type": "code",
   "execution_count": 9,
   "metadata": {},
   "outputs": [],
   "source": [
    "#Bibliotecas para conexão a base de dados via script SQL\n",
    "import pyodbc\n",
    "\n",
    "#Bibliotecas para criação e manipulação de DATAFRAMES e Algebra \n",
    "import pandas as pd \n",
    "import numpy as np\n",
    "\n",
    "#Bibliotecas para geração de gráficos\n",
    "import matplotlib.pyplot as plt \n",
    "import seaborn as sns\n",
    "import pylab\n",
    "import sys\n",
    "import pandas_profiling as pp\n",
    "import missingno as msno\n",
    "%matplotlib inline\n",
    "\n",
    "#Bibliotecas para execução das metricas, modelo e tuning\n",
    "from sklearn.preprocessing import LabelEncoder, StandardScaler\n",
    "from sklearn.model_selection import StratifiedKFold, GridSearchCV\n",
    "from sklearn.metrics import classification_report, confusion_matrix, precision_score, accuracy_score, recall_score, f1_score\n",
    "from sklearn.metrics import precision_recall_curve, roc_curve , roc_auc_score\n",
    "# Implementa o algoritmo gaussiano Naive Bayes para classificação. A probabilidade dos recursos é assumida como gaussiana:\n",
    "from sklearn.naive_bayes import GaussianNB\n",
    "# Tomada como entrada duas matrizes: uma matriz X de tamanho que prende as amostras de formação, \n",
    "# e um conjunto de etiquetas de classe y (cordas ou inteiros).\n",
    "from sklearn import svm\n",
    "from sklearn.neural_network import MLPClassifier\n",
    "# Encontra os vizinhos K de um ponto\n",
    "from sklearn.neighbors import KNeighborsClassifier\n",
    "# recebe como entrada duas matrizes: uma matriz X, esparsa ou densa, \n",
    "# de tamanho contendo as amostras de treinamento e uma matriz Y de valores inteiros, tamanho\n",
    "from sklearn import tree\n",
    "# Os recursos são sempre permutados aleatoriamente em cada divisão\n",
    "from sklearn.ensemble import RandomForestClassifier \n",
    "from sklearn.ensemble import RandomForestRegressor \n",
    "from sklearn.ensemble import GradientBoostingClassifier \n",
    "from sklearn.ensemble import GradientBoostingRegressor \n",
    "from sklearn.ensemble import AdaBoostClassifier \n",
    "from sklearn.ensemble import ExtraTreesClassifier \n",
    "from sklearn.ensemble import BaggingClassifier\n",
    "#Model persistence\n",
    "import pickle\n",
    "import warnings\n",
    "warnings.filterwarnings(\"ignore\")"
   ]
  },
  {
   "cell_type": "markdown",
   "metadata": {},
   "source": [
    "#### Ingerir dados\n",
    "\n",
    "* Agora, precisaremos ler o conjunto de dados usando os comandos abaixo.\n",
    "\n",
    "<b> Nota: </b> Certifique-se de executar a célula de importação acima (shift + enter) antes de executar o código de inserção de dados abaixo."
   ]
  },
  {
   "cell_type": "code",
   "execution_count": 10,
   "metadata": {
    "scrolled": true
   },
   "outputs": [
    {
     "name": "stdout",
     "output_type": "stream",
     "text": [
      "This one dataset it has 53257 rows e 47 columns\n"
     ]
    }
   ],
   "source": [
    "data = pd.read_csv('02_data_train_1908_3110.csv', sep=';')\n",
    "print ('This one dataset it has %s rows e %s columns' % (data.shape[0], data.shape[1]))"
   ]
  },
  {
   "cell_type": "code",
   "execution_count": 11,
   "metadata": {},
   "outputs": [],
   "source": [
    "# Tratando os valores ausentes.\n",
    "\n",
    "data.fillna(0, inplace=True)"
   ]
  },
  {
   "cell_type": "markdown",
   "metadata": {},
   "source": [
    "<h1 style=\"font-size:2em;color:#2467C0\">Data Cleaning: Handling Missing Data</h1>"
   ]
  },
  {
   "cell_type": "code",
   "execution_count": null,
   "metadata": {
    "scrolled": false
   },
   "outputs": [],
   "source": [
    "corr = data.corrwith(data['venda']).reset_index()\n",
    "corr.columns = ['Index','Correlations']\n",
    "corr = corr.set_index('Index')\n",
    "corr = corr.sort_values(by=['Correlations'], ascending = False)\n",
    "plt.figure(figsize=(4,15))\n",
    "fig = sns.heatmap(corr, annot=True, fmt=\"g\", cmap='YlGnBu')\n",
    "plt.title(\"Correlação das variaveis com a Venda\")\n",
    "plt.show()"
   ]
  },
  {
   "cell_type": "code",
   "execution_count": null,
   "metadata": {},
   "outputs": [],
   "source": [
    "pfr = pp.ProfileReport(data, sensitive=True)\n",
    "pfr.to_file(output_file=\"descritiva.html\")"
   ]
  },
  {
   "cell_type": "code",
   "execution_count": null,
   "metadata": {},
   "outputs": [],
   "source": [
    "pfs = pp.ProfileReport(data.loc[:, ['sum_services', 'services_frequency','inter_avulsa', 'antivirus', \n",
    "                                    'app_educacao', 'app_emprego', 'app_saude','clube', 'pre_mix_giga', \n",
    "                                    'entretenimento', 'games','pct_internet_mensal', 'prezao_diario', \n",
    "                                    'prezao_mensal','prezao_quinzenal', 'prezao_semanal', 'recarga_sos',\n",
    "                                    'servicos_operadora', 'sms_cobrar', 'sms_internacional',\n",
    "                                    'transf_entre_regionais', 'truecaller', 'venda']],\n",
    "                       sensitive=True)\n",
    "pfs.to_file(output_file=\"descritiva_servico.html\")"
   ]
  },
  {
   "cell_type": "code",
   "execution_count": null,
   "metadata": {},
   "outputs": [],
   "source": [
    "pfd = pp.ProfileReport(data.loc[:, ['regional', 'idade_cliente', 'plan_type', 'Qnt_abandono', 'venda']],\n",
    "                       sensitive=True)\n",
    "pfd.to_file(output_file=\"descritiva_demais.html\")"
   ]
  },
  {
   "cell_type": "code",
   "execution_count": null,
   "metadata": {},
   "outputs": [],
   "source": [
    "to_drop = ['id_contact', 'rec_online_8',\n",
    "           'sos_rec_3', 'rec_online_100_b18',\n",
    "           'pct_rec_sos_5', 'prezao_quinzenal',\n",
    "           'app_saude', 'recarga_sos',\n",
    "           'antivirus', 'app_emprego',\n",
    "           'transf_entre_regionais', 'pre_mix_giga',\n",
    "           'app_educacao', 'pct_rec_1190',\n",
    "           'games', 'pct_rec_690',\n",
    "           'truecaller', 'rec_online_50_b8',\n",
    "           'sms_internacional', 'sms_cobrar',\n",
    "           'rec_online_40_b6', 'rec_online_35_b5',\n",
    "           'prezao_mensal', 'chip_pre_rec_20']\n",
    "data.drop(to_drop, axis=1, inplace=True)"
   ]
  },
  {
   "cell_type": "code",
   "execution_count": null,
   "metadata": {},
   "outputs": [],
   "source": [
    "data.boxplot(column='sum_recharge')"
   ]
  },
  {
   "cell_type": "code",
   "execution_count": null,
   "metadata": {},
   "outputs": [],
   "source": [
    "data.boxplot(column='recharge_frequency')"
   ]
  },
  {
   "cell_type": "code",
   "execution_count": null,
   "metadata": {},
   "outputs": [],
   "source": [
    "data.boxplot(column='sum_services')"
   ]
  },
  {
   "cell_type": "code",
   "execution_count": null,
   "metadata": {},
   "outputs": [],
   "source": [
    "data.boxplot(column='services_frequency')"
   ]
  },
  {
   "cell_type": "code",
   "execution_count": null,
   "metadata": {},
   "outputs": [],
   "source": [
    "data.boxplot(column='inter_avulsa')"
   ]
  },
  {
   "cell_type": "code",
   "execution_count": null,
   "metadata": {},
   "outputs": [],
   "source": [
    "data.boxplot(column='clube')"
   ]
  },
  {
   "cell_type": "code",
   "execution_count": null,
   "metadata": {},
   "outputs": [],
   "source": [
    "data.boxplot(column='prezao_diario')"
   ]
  },
  {
   "cell_type": "code",
   "execution_count": 13,
   "metadata": {
    "scrolled": false
   },
   "outputs": [
    {
     "data": {
      "text/html": [
       "<div>\n",
       "<style scoped>\n",
       "    .dataframe tbody tr th:only-of-type {\n",
       "        vertical-align: middle;\n",
       "    }\n",
       "\n",
       "    .dataframe tbody tr th {\n",
       "        vertical-align: top;\n",
       "    }\n",
       "\n",
       "    .dataframe thead th {\n",
       "        text-align: right;\n",
       "    }\n",
       "</style>\n",
       "<table border=\"1\" class=\"dataframe\">\n",
       "  <thead>\n",
       "    <tr style=\"text-align: right;\">\n",
       "      <th></th>\n",
       "      <th>id_contact</th>\n",
       "      <th>regional</th>\n",
       "      <th>idade_cliente</th>\n",
       "      <th>plan_type</th>\n",
       "      <th>Qnt_abandono</th>\n",
       "      <th>rec_online_10</th>\n",
       "      <th>rec_online_35_b5</th>\n",
       "      <th>rec_online_15</th>\n",
       "      <th>sos_rec_5</th>\n",
       "      <th>rec_online_20_b2</th>\n",
       "      <th>...</th>\n",
       "      <th>prezao_mensal</th>\n",
       "      <th>prezao_quinzenal</th>\n",
       "      <th>prezao_semanal</th>\n",
       "      <th>recarga_sos</th>\n",
       "      <th>servicos_operadora</th>\n",
       "      <th>sms_cobrar</th>\n",
       "      <th>sms_internacional</th>\n",
       "      <th>transf_entre_regionais</th>\n",
       "      <th>truecaller</th>\n",
       "      <th>venda</th>\n",
       "    </tr>\n",
       "  </thead>\n",
       "  <tbody>\n",
       "    <tr>\n",
       "      <th>0</th>\n",
       "      <td>22817382</td>\n",
       "      <td>0</td>\n",
       "      <td>46</td>\n",
       "      <td>0</td>\n",
       "      <td>1.0</td>\n",
       "      <td>3.0</td>\n",
       "      <td>0.0</td>\n",
       "      <td>0.0</td>\n",
       "      <td>2.0</td>\n",
       "      <td>0.0</td>\n",
       "      <td>...</td>\n",
       "      <td>0.0</td>\n",
       "      <td>0.0</td>\n",
       "      <td>0.0</td>\n",
       "      <td>0.0</td>\n",
       "      <td>6.0</td>\n",
       "      <td>0.0</td>\n",
       "      <td>0.0</td>\n",
       "      <td>0.0</td>\n",
       "      <td>0.0</td>\n",
       "      <td>1</td>\n",
       "    </tr>\n",
       "    <tr>\n",
       "      <th>1</th>\n",
       "      <td>69552265</td>\n",
       "      <td>8</td>\n",
       "      <td>36</td>\n",
       "      <td>0</td>\n",
       "      <td>2.0</td>\n",
       "      <td>0.0</td>\n",
       "      <td>0.0</td>\n",
       "      <td>0.0</td>\n",
       "      <td>0.0</td>\n",
       "      <td>0.0</td>\n",
       "      <td>...</td>\n",
       "      <td>0.0</td>\n",
       "      <td>0.0</td>\n",
       "      <td>0.0</td>\n",
       "      <td>0.0</td>\n",
       "      <td>0.0</td>\n",
       "      <td>0.0</td>\n",
       "      <td>0.0</td>\n",
       "      <td>0.0</td>\n",
       "      <td>0.0</td>\n",
       "      <td>1</td>\n",
       "    </tr>\n",
       "    <tr>\n",
       "      <th>2</th>\n",
       "      <td>82039703</td>\n",
       "      <td>4</td>\n",
       "      <td>-1</td>\n",
       "      <td>3</td>\n",
       "      <td>1.0</td>\n",
       "      <td>0.0</td>\n",
       "      <td>0.0</td>\n",
       "      <td>0.0</td>\n",
       "      <td>0.0</td>\n",
       "      <td>0.0</td>\n",
       "      <td>...</td>\n",
       "      <td>0.0</td>\n",
       "      <td>0.0</td>\n",
       "      <td>0.0</td>\n",
       "      <td>0.0</td>\n",
       "      <td>0.0</td>\n",
       "      <td>0.0</td>\n",
       "      <td>0.0</td>\n",
       "      <td>0.0</td>\n",
       "      <td>0.0</td>\n",
       "      <td>0</td>\n",
       "    </tr>\n",
       "    <tr>\n",
       "      <th>3</th>\n",
       "      <td>82031014</td>\n",
       "      <td>7</td>\n",
       "      <td>26</td>\n",
       "      <td>3</td>\n",
       "      <td>1.0</td>\n",
       "      <td>0.0</td>\n",
       "      <td>0.0</td>\n",
       "      <td>0.0</td>\n",
       "      <td>0.0</td>\n",
       "      <td>0.0</td>\n",
       "      <td>...</td>\n",
       "      <td>0.0</td>\n",
       "      <td>0.0</td>\n",
       "      <td>0.0</td>\n",
       "      <td>0.0</td>\n",
       "      <td>0.0</td>\n",
       "      <td>0.0</td>\n",
       "      <td>0.0</td>\n",
       "      <td>0.0</td>\n",
       "      <td>0.0</td>\n",
       "      <td>1</td>\n",
       "    </tr>\n",
       "    <tr>\n",
       "      <th>4</th>\n",
       "      <td>69479552</td>\n",
       "      <td>4</td>\n",
       "      <td>51</td>\n",
       "      <td>2</td>\n",
       "      <td>2.0</td>\n",
       "      <td>0.0</td>\n",
       "      <td>0.0</td>\n",
       "      <td>0.0</td>\n",
       "      <td>0.0</td>\n",
       "      <td>0.0</td>\n",
       "      <td>...</td>\n",
       "      <td>0.0</td>\n",
       "      <td>0.0</td>\n",
       "      <td>0.0</td>\n",
       "      <td>0.0</td>\n",
       "      <td>0.0</td>\n",
       "      <td>0.0</td>\n",
       "      <td>0.0</td>\n",
       "      <td>0.0</td>\n",
       "      <td>0.0</td>\n",
       "      <td>0</td>\n",
       "    </tr>\n",
       "    <tr>\n",
       "      <th>...</th>\n",
       "      <td>...</td>\n",
       "      <td>...</td>\n",
       "      <td>...</td>\n",
       "      <td>...</td>\n",
       "      <td>...</td>\n",
       "      <td>...</td>\n",
       "      <td>...</td>\n",
       "      <td>...</td>\n",
       "      <td>...</td>\n",
       "      <td>...</td>\n",
       "      <td>...</td>\n",
       "      <td>...</td>\n",
       "      <td>...</td>\n",
       "      <td>...</td>\n",
       "      <td>...</td>\n",
       "      <td>...</td>\n",
       "      <td>...</td>\n",
       "      <td>...</td>\n",
       "      <td>...</td>\n",
       "      <td>...</td>\n",
       "      <td>...</td>\n",
       "    </tr>\n",
       "    <tr>\n",
       "      <th>53252</th>\n",
       "      <td>83389303</td>\n",
       "      <td>4</td>\n",
       "      <td>-1</td>\n",
       "      <td>3</td>\n",
       "      <td>1.0</td>\n",
       "      <td>0.0</td>\n",
       "      <td>0.0</td>\n",
       "      <td>0.0</td>\n",
       "      <td>0.0</td>\n",
       "      <td>0.0</td>\n",
       "      <td>...</td>\n",
       "      <td>0.0</td>\n",
       "      <td>0.0</td>\n",
       "      <td>0.0</td>\n",
       "      <td>0.0</td>\n",
       "      <td>0.0</td>\n",
       "      <td>0.0</td>\n",
       "      <td>0.0</td>\n",
       "      <td>0.0</td>\n",
       "      <td>0.0</td>\n",
       "      <td>0</td>\n",
       "    </tr>\n",
       "    <tr>\n",
       "      <th>53253</th>\n",
       "      <td>22684358</td>\n",
       "      <td>8</td>\n",
       "      <td>39</td>\n",
       "      <td>0</td>\n",
       "      <td>1.0</td>\n",
       "      <td>0.0</td>\n",
       "      <td>0.0</td>\n",
       "      <td>1.0</td>\n",
       "      <td>1.0</td>\n",
       "      <td>1.0</td>\n",
       "      <td>...</td>\n",
       "      <td>0.0</td>\n",
       "      <td>0.0</td>\n",
       "      <td>0.0</td>\n",
       "      <td>0.0</td>\n",
       "      <td>0.0</td>\n",
       "      <td>0.0</td>\n",
       "      <td>0.0</td>\n",
       "      <td>0.0</td>\n",
       "      <td>0.0</td>\n",
       "      <td>0</td>\n",
       "    </tr>\n",
       "    <tr>\n",
       "      <th>53254</th>\n",
       "      <td>78025060</td>\n",
       "      <td>8</td>\n",
       "      <td>38</td>\n",
       "      <td>3</td>\n",
       "      <td>1.0</td>\n",
       "      <td>0.0</td>\n",
       "      <td>3.0</td>\n",
       "      <td>0.0</td>\n",
       "      <td>0.0</td>\n",
       "      <td>0.0</td>\n",
       "      <td>...</td>\n",
       "      <td>3.0</td>\n",
       "      <td>0.0</td>\n",
       "      <td>0.0</td>\n",
       "      <td>0.0</td>\n",
       "      <td>0.0</td>\n",
       "      <td>0.0</td>\n",
       "      <td>0.0</td>\n",
       "      <td>0.0</td>\n",
       "      <td>0.0</td>\n",
       "      <td>0</td>\n",
       "    </tr>\n",
       "    <tr>\n",
       "      <th>53255</th>\n",
       "      <td>5586375</td>\n",
       "      <td>8</td>\n",
       "      <td>40</td>\n",
       "      <td>2</td>\n",
       "      <td>1.0</td>\n",
       "      <td>0.0</td>\n",
       "      <td>0.0</td>\n",
       "      <td>0.0</td>\n",
       "      <td>0.0</td>\n",
       "      <td>0.0</td>\n",
       "      <td>...</td>\n",
       "      <td>0.0</td>\n",
       "      <td>0.0</td>\n",
       "      <td>0.0</td>\n",
       "      <td>0.0</td>\n",
       "      <td>0.0</td>\n",
       "      <td>0.0</td>\n",
       "      <td>0.0</td>\n",
       "      <td>0.0</td>\n",
       "      <td>0.0</td>\n",
       "      <td>1</td>\n",
       "    </tr>\n",
       "    <tr>\n",
       "      <th>53256</th>\n",
       "      <td>83389304</td>\n",
       "      <td>8</td>\n",
       "      <td>-1</td>\n",
       "      <td>3</td>\n",
       "      <td>1.0</td>\n",
       "      <td>2.0</td>\n",
       "      <td>0.0</td>\n",
       "      <td>0.0</td>\n",
       "      <td>0.0</td>\n",
       "      <td>1.0</td>\n",
       "      <td>...</td>\n",
       "      <td>0.0</td>\n",
       "      <td>0.0</td>\n",
       "      <td>0.0</td>\n",
       "      <td>0.0</td>\n",
       "      <td>1.0</td>\n",
       "      <td>0.0</td>\n",
       "      <td>0.0</td>\n",
       "      <td>0.0</td>\n",
       "      <td>0.0</td>\n",
       "      <td>0</td>\n",
       "    </tr>\n",
       "  </tbody>\n",
       "</table>\n",
       "<p>53257 rows × 40 columns</p>\n",
       "</div>"
      ],
      "text/plain": [
       "       id_contact  regional  idade_cliente  plan_type  Qnt_abandono  \\\n",
       "0        22817382         0             46          0           1.0   \n",
       "1        69552265         8             36          0           2.0   \n",
       "2        82039703         4             -1          3           1.0   \n",
       "3        82031014         7             26          3           1.0   \n",
       "4        69479552         4             51          2           2.0   \n",
       "...           ...       ...            ...        ...           ...   \n",
       "53252    83389303         4             -1          3           1.0   \n",
       "53253    22684358         8             39          0           1.0   \n",
       "53254    78025060         8             38          3           1.0   \n",
       "53255     5586375         8             40          2           1.0   \n",
       "53256    83389304         8             -1          3           1.0   \n",
       "\n",
       "       rec_online_10  rec_online_35_b5  rec_online_15  sos_rec_5  \\\n",
       "0                3.0               0.0            0.0        2.0   \n",
       "1                0.0               0.0            0.0        0.0   \n",
       "2                0.0               0.0            0.0        0.0   \n",
       "3                0.0               0.0            0.0        0.0   \n",
       "4                0.0               0.0            0.0        0.0   \n",
       "...              ...               ...            ...        ...   \n",
       "53252            0.0               0.0            0.0        0.0   \n",
       "53253            0.0               0.0            1.0        1.0   \n",
       "53254            0.0               3.0            0.0        0.0   \n",
       "53255            0.0               0.0            0.0        0.0   \n",
       "53256            2.0               0.0            0.0        0.0   \n",
       "\n",
       "       rec_online_20_b2  ...  prezao_mensal  prezao_quinzenal  prezao_semanal  \\\n",
       "0                   0.0  ...            0.0               0.0             0.0   \n",
       "1                   0.0  ...            0.0               0.0             0.0   \n",
       "2                   0.0  ...            0.0               0.0             0.0   \n",
       "3                   0.0  ...            0.0               0.0             0.0   \n",
       "4                   0.0  ...            0.0               0.0             0.0   \n",
       "...                 ...  ...            ...               ...             ...   \n",
       "53252               0.0  ...            0.0               0.0             0.0   \n",
       "53253               1.0  ...            0.0               0.0             0.0   \n",
       "53254               0.0  ...            3.0               0.0             0.0   \n",
       "53255               0.0  ...            0.0               0.0             0.0   \n",
       "53256               1.0  ...            0.0               0.0             0.0   \n",
       "\n",
       "       recarga_sos  servicos_operadora  sms_cobrar  sms_internacional  \\\n",
       "0              0.0                 6.0         0.0                0.0   \n",
       "1              0.0                 0.0         0.0                0.0   \n",
       "2              0.0                 0.0         0.0                0.0   \n",
       "3              0.0                 0.0         0.0                0.0   \n",
       "4              0.0                 0.0         0.0                0.0   \n",
       "...            ...                 ...         ...                ...   \n",
       "53252          0.0                 0.0         0.0                0.0   \n",
       "53253          0.0                 0.0         0.0                0.0   \n",
       "53254          0.0                 0.0         0.0                0.0   \n",
       "53255          0.0                 0.0         0.0                0.0   \n",
       "53256          0.0                 1.0         0.0                0.0   \n",
       "\n",
       "       transf_entre_regionais  truecaller  venda  \n",
       "0                         0.0         0.0      1  \n",
       "1                         0.0         0.0      1  \n",
       "2                         0.0         0.0      0  \n",
       "3                         0.0         0.0      1  \n",
       "4                         0.0         0.0      0  \n",
       "...                       ...         ...    ...  \n",
       "53252                     0.0         0.0      0  \n",
       "53253                     0.0         0.0      0  \n",
       "53254                     0.0         0.0      0  \n",
       "53255                     0.0         0.0      1  \n",
       "53256                     0.0         0.0      0  \n",
       "\n",
       "[53257 rows x 40 columns]"
      ]
     },
     "execution_count": 13,
     "metadata": {},
     "output_type": "execute_result"
    }
   ],
   "source": [
    "# selecionar todas as linhas que excedam o valor 1000 em valor absoluto das colunas < -1000 and > 1000\n",
    "outliers = data.drop(['sum_recharge', 'recharge_frequency', \n",
    "                      'sum_services', 'services_frequency',\n",
    "                      'inter_avulsa', 'prezao_diario',\n",
    "                      'clube'], axis=1) \n",
    "\n",
    "outliers[(np.abs(outliers)> 1000).any(1)]"
   ]
  },
  {
   "cell_type": "code",
   "execution_count": null,
   "metadata": {
    "scrolled": false
   },
   "outputs": [],
   "source": [
    "plt.figure(figsize=(12, 12))\n",
    "sns.heatmap((data.loc[:, ['sum_recharge', 'recharge_frequency', \n",
    "                          'rec_online_10','rec_online_35_b5', 'rec_online_15', \n",
    "                          'sos_rec_5', 'rec_online_20_b2','chip_pre_rec_10', \n",
    "                          'chip_pre_rec_20', 'rec_online_13','rec_online_50_b8',\n",
    "                          'rec_online_30_b4', 'rec_online_40_b6','pct_rec_1190',\n",
    "                          'pct_rec_690', 'rec_online_100_b18', 'pct_rec_sos_5',\n",
    "                          'sos_rec_3', 'rec_online_8', 'venda']]).corr(),\n",
    "            annot = True,\n",
    "            fmt = '.2f',\n",
    "            vmin=-1, \n",
    "            vmax=1, \n",
    "            center=0)\n",
    "plt.title('Correlação entre variáveis de recarga')\n",
    "plt.show()"
   ]
  },
  {
   "cell_type": "code",
   "execution_count": null,
   "metadata": {},
   "outputs": [],
   "source": [
    "plt.figure(figsize=(9, 5))\n",
    "sns.heatmap((data.loc[:, ['sum_recharge', 'recharge_frequency', \n",
    "                          'rec_online_10', 'rec_online_35_b5', \n",
    "                          'rec_online_15', 'sos_rec_5', \n",
    "                          'rec_online_20_b2', 'rec_online_13', \n",
    "                          'rec_online_50_b8','rec_online_30_b4',\n",
    "                          'rec_online_40_b6','pct_rec_690', \n",
    "                          'pct_rec_sos_5', 'sos_rec_3', \n",
    "                          'rec_online_100_b18','pct_rec_1190', \n",
    "                          'chip_pre_rec_20', 'venda']]).corr(),\n",
    "            annot = True,\n",
    "            fmt = '.2f',\n",
    "            vmin=-1, vmax=1, center=0)\n",
    "plt.title('Correlação entre variáveis de recarga com excesso de valores zerados')\n",
    "plt.show()"
   ]
  },
  {
   "cell_type": "code",
   "execution_count": null,
   "metadata": {},
   "outputs": [],
   "source": [
    "plt.figure(figsize=(12, 12))\n",
    "sns.heatmap((data.loc[:, ['sum_services', 'services_frequency','inter_avulsa', 'antivirus', \n",
    "                          'app_educacao', 'app_emprego', 'app_saude','clube', 'pre_mix_giga', \n",
    "                          'entretenimento', 'games','pct_internet_mensal', 'prezao_diario', \n",
    "                          'prezao_mensal','prezao_quinzenal', 'prezao_semanal', 'recarga_sos',\n",
    "                          'servicos_operadora', 'sms_cobrar', 'sms_internacional',\n",
    "                          'transf_entre_regionais', 'truecaller', 'venda']]).corr(),\n",
    "            annot = True,\n",
    "            fmt = '.2f',\n",
    "            vmin=-1, \n",
    "            vmax=1, \n",
    "            center=0)\n",
    "plt.title('Correlação entre variáveis de serviço')\n",
    "plt.show()"
   ]
  },
  {
   "cell_type": "code",
   "execution_count": 12,
   "metadata": {},
   "outputs": [],
   "source": [
    "# Transformar rótulos não numéricos (desde que sejam laváveis e comparáveis) em rótulos numéricos.\n",
    "\n",
    "var_cat = data.select_dtypes('object')\n",
    "for col in var_cat:\n",
    "    data[col] = LabelEncoder().fit_transform(data[col].astype('str'))"
   ]
  },
  {
   "cell_type": "code",
   "execution_count": null,
   "metadata": {
    "scrolled": true
   },
   "outputs": [],
   "source": [
    "data.isnull().sum()"
   ]
  },
  {
   "cell_type": "code",
   "execution_count": null,
   "metadata": {
    "scrolled": false
   },
   "outputs": [],
   "source": [
    "msno.bar(data.loc[:, ['sum_recharge', 'recharge_frequency', \n",
    "                      'rec_online_10','rec_online_35_b5', 'rec_online_15', \n",
    "                      'sos_rec_5', 'rec_online_20_b2','chip_pre_rec_10', \n",
    "                      'chip_pre_rec_20', 'rec_online_13','rec_online_50_b8',\n",
    "                      'rec_online_30_b4', 'rec_online_40_b6','pct_rec_1190',\n",
    "                      'pct_rec_690', 'rec_online_100_b18', 'pct_rec_sos_5',\n",
    "                      'sos_rec_3', 'rec_online_8']],figsize=(25,5))"
   ]
  },
  {
   "cell_type": "code",
   "execution_count": null,
   "metadata": {
    "scrolled": true
   },
   "outputs": [],
   "source": [
    "msno.bar(data.loc[:, ['sum_services', 'services_frequency','inter_avulsa', 'antivirus', \n",
    "                      'app_educacao', 'app_emprego', 'app_saude','clube', 'pre_mix_giga', \n",
    "                      'entretenimento', 'games','pct_internet_mensal', 'prezao_diario', \n",
    "                      'prezao_mensal','prezao_quinzenal', 'prezao_semanal', 'recarga_sos',\n",
    "                      'servicos_operadora', 'sms_cobrar', 'sms_internacional',\n",
    "                      'transf_entre_regionais', 'truecaller']],figsize=(25,5))"
   ]
  },
  {
   "cell_type": "code",
   "execution_count": null,
   "metadata": {},
   "outputs": [],
   "source": [
    "data.select_dtypes(include='object')"
   ]
  },
  {
   "cell_type": "markdown",
   "metadata": {},
   "source": [
    "<h1 style=\"font-size:2em;color:#2467C0\">Data Preparation: </h1>\n",
    "\n",
    "* Conversão de Categoricas; \n",
    "* Normalização;\n",
    "* Exclusão de Colunas;\n",
    "* Def X - Preditoras Perguntas and Y - Classes Resposta."
   ]
  },
  {
   "cell_type": "markdown",
   "metadata": {},
   "source": [
    "#### Label Encoder - Conversão de Categoricas;"
   ]
  },
  {
   "cell_type": "code",
   "execution_count": null,
   "metadata": {},
   "outputs": [],
   "source": [
    "# Transformar rótulos não numéricos (desde que sejam laváveis e comparáveis) em rótulos numéricos.\n",
    "\n",
    "var_cat = data.select_dtypes('object')\n",
    "for col in var_cat:\n",
    "    data[col] = LabelEncoder().fit_transform(data[col].astype('str'))"
   ]
  },
  {
   "cell_type": "code",
   "execution_count": null,
   "metadata": {},
   "outputs": [],
   "source": [
    "data[np.abs(data.loc[:, ['sum_recharge']]) > 650] = np.sign(data) * 3\n",
    "data[np.abs(data.loc[:, ['recharge_frequency']]) > 63] = np.sign(data) * 3\n",
    "data[np.abs(data.loc[:, ['sum_services']]) > 600] = np.sign(data) * 3\n",
    "data[np.abs(data.loc[:, ['services_frequency']]) > 230] = np.sign(data) * 3\n",
    "data[np.abs(data.loc[:, ['inter_avulsa']]) > 195] = np.sign(data) * 3\n",
    "data[np.abs(data.loc[:, ['clube']]) > 19] = np.sign(data) * 3\n",
    "data[np.abs(data.loc[:, ['prezao_diario']]) > 90] = np.sign(data) * 3"
   ]
  },
  {
   "cell_type": "markdown",
   "metadata": {},
   "source": [
    "#### X - Preditoras Perguntas and Y - Classes Resposta"
   ]
  },
  {
   "cell_type": "code",
   "execution_count": null,
   "metadata": {},
   "outputs": [],
   "source": [
    "# def X and Y \n",
    "\n",
    "Y = np.array(data.venda.tolist())\n",
    "df = data.drop('venda', axis=1)\n",
    "X = np.array(df.to_numpy())\n",
    "seed=42"
   ]
  },
  {
   "cell_type": "code",
   "execution_count": null,
   "metadata": {},
   "outputs": [],
   "source": [
    "X.shape"
   ]
  },
  {
   "cell_type": "code",
   "execution_count": null,
   "metadata": {},
   "outputs": [],
   "source": [
    "Y.shape"
   ]
  },
  {
   "cell_type": "markdown",
   "metadata": {},
   "source": [
    "#### StratifiedKFold"
   ]
  },
  {
   "cell_type": "code",
   "execution_count": null,
   "metadata": {},
   "outputs": [],
   "source": [
    "# StratifiedKFold k = 5\n",
    "\n",
    "skf = StratifiedKFold(n_splits=5, \n",
    "                      shuffle=True, \n",
    "                      random_state=seed)\n",
    "for train_index, test_index in skf.split(X, Y):\n",
    "    print(\"TRAIN:\", train_index,  \"TEST:\", test_index)\n",
    "    X_train, X_test = X[train_index], X[test_index]\n",
    "    Y_train, Y_test = Y[train_index], Y[test_index]"
   ]
  },
  {
   "cell_type": "code",
   "execution_count": null,
   "metadata": {},
   "outputs": [],
   "source": [
    "X_train.shape"
   ]
  },
  {
   "cell_type": "code",
   "execution_count": null,
   "metadata": {},
   "outputs": [],
   "source": [
    "X_test.shape"
   ]
  },
  {
   "cell_type": "code",
   "execution_count": null,
   "metadata": {},
   "outputs": [],
   "source": [
    "Y_train.shape"
   ]
  },
  {
   "cell_type": "code",
   "execution_count": null,
   "metadata": {},
   "outputs": [],
   "source": [
    "Y_test.shape"
   ]
  },
  {
   "cell_type": "markdown",
   "metadata": {},
   "source": [
    "#### StandardScaler "
   ]
  },
  {
   "cell_type": "code",
   "execution_count": null,
   "metadata": {},
   "outputs": [],
   "source": [
    "#dimensione cada atributo no vetor de entrada X\n",
    "\n",
    "scaler = StandardScaler()\n",
    "scaler.fit(X_train)  # Não trapaceie - ajuste apenas nos dados de treinamento \n",
    "X_train = scaler.transform(X_train)\n",
    "X_test = scaler.transform(X_test)  # aplica a mesma transformação aos dados de teste"
   ]
  },
  {
   "cell_type": "markdown",
   "metadata": {},
   "source": [
    "<h1 style=\"font-size:2em;color:#2467C0\">Metrics:</h1>"
   ]
  },
  {
   "cell_type": "markdown",
   "metadata": {},
   "source": [
    "#### ROC curve"
   ]
  },
  {
   "cell_type": "code",
   "execution_count": null,
   "metadata": {},
   "outputs": [],
   "source": [
    "def plot_roc_curve(fpr, tpr):\n",
    "    plt.plot(fpr, tpr, color='orange', label='ROC')\n",
    "    plt.plot([0, 1], [0, 1], color='darkblue', linestyle='--')\n",
    "    plt.xlabel('False Positive Rate')\n",
    "    plt.ylabel('True Positive Rate')\n",
    "    plt.title('Receiver Operating Characteristic (ROC) Curve')\n",
    "    plt.legend()\n",
    "    plt.show()"
   ]
  },
  {
   "cell_type": "markdown",
   "metadata": {},
   "source": [
    "#### Precision-recall curve"
   ]
  },
  {
   "cell_type": "code",
   "execution_count": null,
   "metadata": {},
   "outputs": [],
   "source": [
    "def plot_precision_recall():\n",
    "    plt.step(recall, precision, color = 'b', alpha = 0.2,\n",
    "             where = 'post')\n",
    "    plt.fill_between(recall, precision, step ='post', alpha = 0.2,\n",
    "                 color = 'b')\n",
    "\n",
    "    plt.plot(recall, precision, linewidth=2)\n",
    "    plt.xlim([0.0,1])\n",
    "    plt.ylim([0.0,1.05])\n",
    "    plt.xlabel('Recall')\n",
    "    plt.ylabel('Precision')\n",
    "    plt.title('Precision Recall Curve')\n",
    "    plt.show();"
   ]
  },
  {
   "cell_type": "markdown",
   "metadata": {},
   "source": [
    "#### Feature importance plot"
   ]
  },
  {
   "cell_type": "code",
   "execution_count": null,
   "metadata": {},
   "outputs": [],
   "source": [
    "def plot_feature_importance(model):\n",
    "    tmp = pd.DataFrame({'Feature': predictors, 'Feature importance': model.feature_importances_})\n",
    "    tmp = tmp.sort_values(by='Feature importance',ascending=False)\n",
    "    plt.figure(figsize = (10,18))\n",
    "    plt.title('Features importance',fontsize=20)\n",
    "    s = sns.barplot(y='Feature',x='Feature importance',data=tmp)\n",
    "    s.set_yticklabels(s.get_yticklabels(),rotation=360)\n",
    "    plt.show()"
   ]
  },
  {
   "cell_type": "markdown",
   "metadata": {},
   "source": [
    "<h1 style=\"font-size:2em;color:#2467C0\">Feature Selection: </h1>"
   ]
  },
  {
   "cell_type": "markdown",
   "metadata": {},
   "source": [
    "#### Modelo de Classificação - Importancia das Features"
   ]
  },
  {
   "cell_type": "code",
   "execution_count": null,
   "metadata": {},
   "outputs": [],
   "source": [
    "# Ajustar o modelo usando X como dados de treinamento e y como valores de destino\n",
    "rf_clf = RandomForestClassifier(n_estimators=100, random_state=seed, n_jobs=-1)\n",
    "rf_clf = rf_clf.fit(X_train, Y_train)"
   ]
  },
  {
   "cell_type": "code",
   "execution_count": null,
   "metadata": {},
   "outputs": [],
   "source": [
    "# Variaveis\n",
    "predictors = ['regional', 'idade_cliente', 'plan_type', 'Qnt_abandono',\n",
    "       'sum_recharge', 'recharge_frequency', 'rec_online_10',\n",
    "       'rec_online_35_b5', 'rec_online_15', 'sos_rec_5', 'rec_online_20_b2',\n",
    "       'chip_pre_rec_10', 'chip_pre_rec_20', 'rec_online_13',\n",
    "       'rec_online_50_b8', 'rec_online_30_b4', 'rec_online_40_b6',\n",
    "       'pct_rec_1190', 'pct_rec_690', 'rec_online_100_b18', 'pct_rec_sos_5',\n",
    "       'sos_rec_3', 'rec_online_8', 'sum_services', 'services_frequency',\n",
    "       'inter_avulsa', 'antivirus', 'app_educacao', 'app_emprego', 'app_saude',\n",
    "       'clube', 'pre_mix_giga', 'entretenimento', 'games',\n",
    "       'pct_internet_mensal', 'prezao_diario', 'prezao_mensal',\n",
    "       'prezao_quinzenal', 'prezao_semanal', 'recarga_sos',\n",
    "       'servicos_operadora', 'sms_cobrar', 'sms_internacional',\n",
    "       'transf_entre_regionais', 'truecaller', 'jovem', 'adulto',\n",
    "       'meia_idade', 'idoso']"
   ]
  },
  {
   "cell_type": "code",
   "execution_count": null,
   "metadata": {},
   "outputs": [],
   "source": [
    "plot_feature_importance(rf_clf)"
   ]
  },
  {
   "cell_type": "code",
   "execution_count": null,
   "metadata": {},
   "outputs": [],
   "source": [
    "# Drop Features, dado a importancia da Feature\n",
    "\n",
    "# Não aplicado neste estudo, por testes em varios classificadores que não utilizam arvore de decisão\n",
    "\n",
    "#to_drop = ['chip_pre_rec_10', 'pct_internet_mensal', 'meia_idade', 'rec_online_35_b5', 'rec_online_40_b6', 'rec_online_50_b8', \n",
    "#           'sms_internacional', 'truecaller', 'sms_cobrar', 'crip_pre_rec_20', 'pct_rec_1190', 'games', 'pct_rec_690', \n",
    "#           'idoso', 'transf_entre_regionais', 'app_educacao', 'app_emprego', 'pre_mix_giga', 'antivirus', \n",
    "#           'rec_online_100_b18', 'recarga_sos', 'app_saude', 'prezao_quinzenal', 'sos_rec_3', 'pct_rec_sos_5']\n",
    "#data.drop(to_drop, axis=1, inplace=True)"
   ]
  },
  {
   "cell_type": "markdown",
   "metadata": {},
   "source": [
    "<h1 style=\"font-size:2em;color:#2467C0\">Models: </h1>"
   ]
  },
  {
   "cell_type": "markdown",
   "metadata": {},
   "source": [
    "#### Fiting Modelos de Classificação"
   ]
  },
  {
   "cell_type": "code",
   "execution_count": null,
   "metadata": {},
   "outputs": [],
   "source": [
    "clfs = {\n",
    "    \n",
    "    \n",
    "    'nlp': MLPClassifier(solver='lbfgs', alpha=1e-5, hidden_layer_sizes=(5, 2), random_state=1),\n",
    "    \n",
    "    'gnb': GaussianNB (),\n",
    "    \n",
    "    'svm': svm.SVC(gamma='scale', random_state=seed),\n",
    "        \n",
    "    'knn': KNeighborsClassifier(n_neighbors=3, n_jobs=-1),\n",
    "    \n",
    "    'dtc': tree.DecisionTreeClassifier(random_state=seed),\n",
    "    \n",
    "    'rfc':  RandomForestClassifier (n_estimators=10),\n",
    "    \n",
    "    'etc': ExtraTreesClassifier(n_estimators=10, max_depth=None, min_samples_split=2, random_state=seed),\n",
    "    \n",
    "    'abc': AdaBoostClassifier(n_estimators=100),\n",
    "    \n",
    "    'gbc': GradientBoostingClassifier(n_estimators=100, learning_rate=1.0, max_depth=1, random_state=seed),\n",
    "    \n",
    "    'bagging': BaggingClassifier(KNeighborsClassifier(), max_samples=0.5, max_features=0.5)\n",
    "        \n",
    "}"
   ]
  },
  {
   "cell_type": "markdown",
   "metadata": {},
   "source": [
    "#### Carregado  Métricas dos Modelos"
   ]
  },
  {
   "cell_type": "code",
   "execution_count": null,
   "metadata": {},
   "outputs": [],
   "source": [
    "precision_recall_curves = dict()\n",
    "roc_curves = dict()\n",
    "confusion_matrixs = dict()\n",
    "precision_scores = dict()\n",
    "recall_scores = dict()\n",
    "f1_scores = dict()\n",
    "aucs = dict()\n",
    "for clf_name in clfs:\n",
    "    print(clf_name)\n",
    "    clf = clfs[clf_name]\n",
    "    clf.fit(X_train, Y_train)\n",
    "    Y_pred = clf.predict(X_test)\n",
    "    precision_recall_curves[clf_name] = precision_recall_curve(Y_test, Y_pred)\n",
    "    roc_curves[clf_name] = roc_curve(Y_test, Y_pred)\n",
    "    confusion_matrixs[clf_name] = confusion_matrix(Y_test, Y_pred)\n",
    "    precision_scores[clf_name] = precision_score(Y_test, Y_pred)\n",
    "    recall_scores[clf_name] = recall_score(Y_test, Y_pred)\n",
    "    f1_scores[clf_name] = f1_score(Y_test, Y_pred)\n",
    "    aucs[clf_name] = roc_auc_score(Y_test, Y_pred)"
   ]
  },
  {
   "cell_type": "markdown",
   "metadata": {},
   "source": [
    "#### NLP"
   ]
  },
  {
   "cell_type": "code",
   "execution_count": null,
   "metadata": {},
   "outputs": [],
   "source": [
    "fp_nlp, tp_nlp, thresholds = roc_curves['nlp']\n",
    "plot_roc_curve(fp_nlp, tp_nlp)"
   ]
  },
  {
   "cell_type": "code",
   "execution_count": null,
   "metadata": {},
   "outputs": [],
   "source": [
    "print('AUC: %.2f' % aucs['nlp'])"
   ]
  },
  {
   "cell_type": "code",
   "execution_count": null,
   "metadata": {},
   "outputs": [],
   "source": [
    "precision, recall, thresholds = precision_recall_curves['nlp']\n",
    "plot_precision_recall()"
   ]
  },
  {
   "cell_type": "code",
   "execution_count": null,
   "metadata": {},
   "outputs": [],
   "source": [
    "confusion_matrixs['nlp']"
   ]
  },
  {
   "cell_type": "markdown",
   "metadata": {},
   "source": [
    "#### Gaussian Naive Bayes"
   ]
  },
  {
   "cell_type": "code",
   "execution_count": null,
   "metadata": {},
   "outputs": [],
   "source": [
    "fp_gnb, tp_gnb, thresholds = roc_curves['gnb']\n",
    "plot_roc_curve(fp_gnb, tp_gnb)"
   ]
  },
  {
   "cell_type": "code",
   "execution_count": null,
   "metadata": {},
   "outputs": [],
   "source": [
    "print('AUC: %.2f' % aucs['gnb'])"
   ]
  },
  {
   "cell_type": "code",
   "execution_count": null,
   "metadata": {},
   "outputs": [],
   "source": [
    "precision, recall, thresholds = precision_recall_curves['gnb']\n",
    "plot_precision_recall()"
   ]
  },
  {
   "cell_type": "code",
   "execution_count": null,
   "metadata": {},
   "outputs": [],
   "source": [
    "confusion_matrixs['gnb']"
   ]
  },
  {
   "cell_type": "markdown",
   "metadata": {},
   "source": [
    "#### Suport Vector Machine"
   ]
  },
  {
   "cell_type": "code",
   "execution_count": null,
   "metadata": {},
   "outputs": [],
   "source": [
    "fp_gnb, tp_gnb, thresholds = roc_curves['svm']\n",
    "plot_roc_curve(fp_gnb, tp_gnb)"
   ]
  },
  {
   "cell_type": "code",
   "execution_count": null,
   "metadata": {},
   "outputs": [],
   "source": [
    "print('AUC: %.2f' % aucs['svm'])"
   ]
  },
  {
   "cell_type": "code",
   "execution_count": null,
   "metadata": {},
   "outputs": [],
   "source": [
    "precision, recall, thresholds = precision_recall_curves['svm']\n",
    "plot_precision_recall()"
   ]
  },
  {
   "cell_type": "code",
   "execution_count": null,
   "metadata": {},
   "outputs": [],
   "source": [
    "confusion_matrixs['svm']"
   ]
  },
  {
   "cell_type": "markdown",
   "metadata": {},
   "source": [
    "#### KNeighbors Classifier"
   ]
  },
  {
   "cell_type": "code",
   "execution_count": null,
   "metadata": {},
   "outputs": [],
   "source": [
    "fp_gnb, tp_gnb, thresholds = roc_curves['knn']\n",
    "plot_roc_curve(fp_gnb, tp_gnb)"
   ]
  },
  {
   "cell_type": "code",
   "execution_count": null,
   "metadata": {},
   "outputs": [],
   "source": [
    "print('AUC: %.2f' % aucs['knn'])"
   ]
  },
  {
   "cell_type": "code",
   "execution_count": null,
   "metadata": {},
   "outputs": [],
   "source": [
    "precision, recall, thresholds = precision_recall_curves['knn']\n",
    "plot_precision_recall()"
   ]
  },
  {
   "cell_type": "code",
   "execution_count": null,
   "metadata": {},
   "outputs": [],
   "source": [
    "confusion_matrixs['knn']"
   ]
  },
  {
   "cell_type": "markdown",
   "metadata": {},
   "source": [
    "#### Decision Tree"
   ]
  },
  {
   "cell_type": "code",
   "execution_count": null,
   "metadata": {},
   "outputs": [],
   "source": [
    "fp_gnb, tp_gnb, thresholds = roc_curves['dtc']\n",
    "plot_roc_curve(fp_gnb, tp_gnb)"
   ]
  },
  {
   "cell_type": "code",
   "execution_count": null,
   "metadata": {},
   "outputs": [],
   "source": [
    "print('AUC: %.2f' % aucs['dtc'])"
   ]
  },
  {
   "cell_type": "code",
   "execution_count": null,
   "metadata": {},
   "outputs": [],
   "source": [
    "precision, recall, thresholds = precision_recall_curves['dtc']\n",
    "plot_precision_recall()"
   ]
  },
  {
   "cell_type": "code",
   "execution_count": null,
   "metadata": {},
   "outputs": [],
   "source": [
    "confusion_matrixs['dtc']"
   ]
  },
  {
   "cell_type": "markdown",
   "metadata": {},
   "source": [
    "#### Random Forest"
   ]
  },
  {
   "cell_type": "code",
   "execution_count": null,
   "metadata": {},
   "outputs": [],
   "source": [
    "fp_gnb, tp_gnb, thresholds = roc_curves['rfc']\n",
    "plot_roc_curve(fp_gnb, tp_gnb)"
   ]
  },
  {
   "cell_type": "code",
   "execution_count": null,
   "metadata": {},
   "outputs": [],
   "source": [
    "print('AUC: %.2f' % aucs['rfc'])"
   ]
  },
  {
   "cell_type": "code",
   "execution_count": null,
   "metadata": {},
   "outputs": [],
   "source": [
    "precision, recall, thresholds = precision_recall_curves['rfc']\n",
    "plot_precision_recall()"
   ]
  },
  {
   "cell_type": "code",
   "execution_count": null,
   "metadata": {},
   "outputs": [],
   "source": [
    "confusion_matrixs['rfc']"
   ]
  },
  {
   "cell_type": "markdown",
   "metadata": {},
   "source": [
    "#### Precision Score ALL Models"
   ]
  },
  {
   "cell_type": "code",
   "execution_count": null,
   "metadata": {},
   "outputs": [],
   "source": [
    "precision_scores"
   ]
  },
  {
   "cell_type": "markdown",
   "metadata": {},
   "source": [
    "#### Recall Score ALL Models"
   ]
  },
  {
   "cell_type": "code",
   "execution_count": null,
   "metadata": {},
   "outputs": [],
   "source": [
    "recall_scores"
   ]
  },
  {
   "cell_type": "markdown",
   "metadata": {},
   "source": [
    "#### F1_scores All Models"
   ]
  },
  {
   "cell_type": "code",
   "execution_count": null,
   "metadata": {},
   "outputs": [],
   "source": [
    "f1_scores"
   ]
  },
  {
   "cell_type": "code",
   "execution_count": null,
   "metadata": {},
   "outputs": [],
   "source": [
    "filename = 'chat_gnb.sav'\n",
    "pickle.dump(gnb, open(filename, 'wb'))"
   ]
  },
  {
   "cell_type": "code",
   "execution_count": null,
   "metadata": {},
   "outputs": [],
   "source": [
    "filename = 'chat_knn.sav'\n",
    "pickle.dump(knn, open(filename, 'wb'))"
   ]
  },
  {
   "cell_type": "code",
   "execution_count": null,
   "metadata": {},
   "outputs": [],
   "source": [
    "filename = 'chat_dtc.sav'\n",
    "pickle.dump(dtc, open(filename, 'wb'))"
   ]
  },
  {
   "cell_type": "code",
   "execution_count": null,
   "metadata": {},
   "outputs": [],
   "source": [
    "filename = 'chat_rfc.sav'\n",
    "pickle.dump(rfc, open(filename, 'wb'))"
   ]
  }
 ],
 "metadata": {
  "kernelspec": {
   "display_name": "Python 3 (ipykernel)",
   "language": "python",
   "name": "python3"
  },
  "language_info": {
   "codemirror_mode": {
    "name": "ipython",
    "version": 3
   },
   "file_extension": ".py",
   "mimetype": "text/x-python",
   "name": "python",
   "nbconvert_exporter": "python",
   "pygments_lexer": "ipython3",
   "version": "3.9.7"
  }
 },
 "nbformat": 4,
 "nbformat_minor": 2
}
