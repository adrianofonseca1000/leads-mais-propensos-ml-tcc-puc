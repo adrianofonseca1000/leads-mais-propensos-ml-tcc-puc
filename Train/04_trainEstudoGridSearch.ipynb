{
 "cells": [
  {
   "cell_type": "markdown",
   "metadata": {},
   "source": [
    "<br><br><center><h1 style=\"font-size:4em;color:#2467C0\">Modelo</h1></center>\n",
    "<br>"
   ]
  },
  {
   "cell_type": "markdown",
   "metadata": {},
   "source": [
    "## Objetivo da Story 3: \n",
    "\n",
    "Desenvolver Modelo Preditivo para operação Chat."
   ]
  },
  {
   "cell_type": "markdown",
   "metadata": {},
   "source": [
    "## Importar bibliotecas\n",
    "<br> Começaremos importando as bibliotecas Python que usaremos nesta análise. Essas bibliotecas incluem:\n",
    "<ul>\n",
    "<li> <b> pyodbc </b> drive odbc para carregar os dados. </li>\n",
    "<li> <b> pandas </b> e <b> numpy </b> para ingestão e manipulação de dados. </li>\n",
    "<li> <b> matplotlib </b> e <b> seaborn </b> para visualização de dados </li>\n",
    "\n",
    "</ul>"
   ]
  },
  {
   "cell_type": "code",
   "execution_count": null,
   "metadata": {},
   "outputs": [],
   "source": [
    "#Bibliotecas para conexão a base de dados via script SQL\n",
    "import pyodbc\n",
    "\n",
    "#Bibliotecas para criação e manipulação de DATAFRAMES e Algebra \n",
    "import pandas as pd \n",
    "import numpy as np\n",
    "\n",
    "#Bibliotecas para geração de gráficos\n",
    "import matplotlib.pyplot as plt \n",
    "import seaborn as sns\n",
    "import pylab\n",
    "#Bibliotecas para execução das metricas, modelo e tuning\n",
    "from sklearn.preprocessing import LabelEncoder, StandardScaler\n",
    "from sklearn.model_selection import StratifiedKFold, GridSearchCV\n",
    "from sklearn.metrics import classification_report, confusion_matrix, precision_score, accuracy_score, recall_score, f1_score\n",
    "from sklearn.metrics import precision_recall_curve, roc_curve , roc_auc_score\n",
    "# Implementa o algoritmo gaussiano Naive Bayes para classificação. A probabilidade dos recursos é assumida como gaussiana:\n",
    "from sklearn.naive_bayes import GaussianNB\n",
    "# Tomada como entrada duas matrizes: uma matriz X de tamanho que prende as amostras de formação, \n",
    "# e um conjunto de etiquetas de classe y (cordas ou inteiros).\n",
    "from sklearn import svm\n",
    "# Encontra os vizinhos K de um ponto\n",
    "from sklearn.neighbors import KNeighborsClassifier\n",
    "# recebe como entrada duas matrizes: uma matriz X, esparsa ou densa, \n",
    "# de tamanho contendo as amostras de treinamento e uma matriz Y de valores inteiros, tamanho\n",
    "from sklearn import tree\n",
    "# Os recursos são sempre permutados aleatoriamente em cada divisão\n",
    "from sklearn.ensemble import RandomForestClassifier\n",
    "#Model persistence\n",
    "import pickle\n",
    "import warnings\n",
    "warnings.filterwarnings(\"ignore\")"
   ]
  },
  {
   "cell_type": "markdown",
   "metadata": {},
   "source": [
    "#### Ingerir dados\n",
    "\n",
    "* Agora, precisaremos ler o conjunto de dados usando os comandos abaixo.\n",
    "\n",
    "<b> Nota: </b> Certifique-se de executar a célula de importação acima (shift + enter) antes de executar o código de inserção de dados abaixo."
   ]
  },
  {
   "cell_type": "code",
   "execution_count": null,
   "metadata": {},
   "outputs": [],
   "source": [
    "data = pd.read_csv('02_data_train_1908_3110.csv', sep=';')\n",
    "print ('This one dataset it has %s rows e %s columns' % (data.shape[0], data.shape[1]))"
   ]
  },
  {
   "cell_type": "code",
   "execution_count": null,
   "metadata": {},
   "outputs": [],
   "source": [
    "#Segmenta idade\n",
    "data['jovem'] = 0\n",
    "data['adulto'] = 0\n",
    "data['meia_idade'] = 0\n",
    "data['idoso'] = 0\n",
    "data.loc[(data['idade_cliente']<35), 'jovem'] = 1\n",
    "data.loc[(data['idade_cliente']>=35) & (data['idade_cliente']<49), 'adulto'] = 1\n",
    "data.loc[(data['idade_cliente']>=49) & (data['idade_cliente']<66), 'meia_idade'] = 1\n",
    "data.loc[(data['idade_cliente']>=66), 'idoso'] = 1"
   ]
  },
  {
   "cell_type": "markdown",
   "metadata": {},
   "source": [
    "<h1 style=\"font-size:2em;color:#2467C0\">Data Cleaning: Handling Missing Data</h1>"
   ]
  },
  {
   "cell_type": "markdown",
   "metadata": {},
   "source": [
    "#### Fixando valores nulos por -1"
   ]
  },
  {
   "cell_type": "code",
   "execution_count": null,
   "metadata": {},
   "outputs": [],
   "source": [
    "# Tratando os valores ausentes.\n",
    "\n",
    "data.fillna(-1, inplace=True)"
   ]
  },
  {
   "cell_type": "markdown",
   "metadata": {},
   "source": [
    "<h1 style=\"font-size:2em;color:#2467C0\">Data Preparation: </h1>\n",
    "\n",
    "* Conversão de Categoricas; \n",
    "* Normalização;\n",
    "* Exclusão de Colunas;\n",
    "* Def X - Preditoras Perguntas and Y - Classes Resposta."
   ]
  },
  {
   "cell_type": "markdown",
   "metadata": {},
   "source": [
    "#### Label Encoder - Conversão de Categoricas;"
   ]
  },
  {
   "cell_type": "code",
   "execution_count": null,
   "metadata": {},
   "outputs": [],
   "source": [
    "# Transformar rótulos não numéricos (desde que sejam laváveis e comparáveis) em rótulos numéricos.\n",
    "\n",
    "var_cat = data.select_dtypes('object')\n",
    "for col in var_cat:\n",
    "    data[col] = LabelEncoder().fit_transform(data[col].astype('str'))"
   ]
  },
  {
   "cell_type": "markdown",
   "metadata": {},
   "source": [
    "#### Drop"
   ]
  },
  {
   "cell_type": "code",
   "execution_count": null,
   "metadata": {},
   "outputs": [],
   "source": [
    "to_drop = ['id_contact', 'phone']\n",
    "data.drop(to_drop, axis=1, inplace=True)"
   ]
  },
  {
   "cell_type": "markdown",
   "metadata": {},
   "source": [
    "#### def X - Preditoras Perguntas and Y - Classes Resposta"
   ]
  },
  {
   "cell_type": "code",
   "execution_count": null,
   "metadata": {},
   "outputs": [],
   "source": [
    "# def X and Y \n",
    "\n",
    "Y = np.array(data.venda.tolist())\n",
    "df = data.drop('venda', axis=1)\n",
    "X = np.array(df.to_numpy())\n",
    "seed=42"
   ]
  },
  {
   "cell_type": "code",
   "execution_count": null,
   "metadata": {},
   "outputs": [],
   "source": [
    "X.shape"
   ]
  },
  {
   "cell_type": "code",
   "execution_count": null,
   "metadata": {},
   "outputs": [],
   "source": [
    "Y.shape"
   ]
  },
  {
   "cell_type": "markdown",
   "metadata": {},
   "source": [
    "#### StratifiedKFold"
   ]
  },
  {
   "cell_type": "code",
   "execution_count": null,
   "metadata": {},
   "outputs": [],
   "source": [
    "# StratifiedKFold k = 5\n",
    "\n",
    "skf = StratifiedKFold(n_splits=5, shuffle=True, random_state=seed)\n",
    "for train_index, test_index in skf.split(X, Y):\n",
    "    print(\"TRAIN:\", train_index,  \"TEST:\", test_index)\n",
    "    X_train, X_test = X[train_index], X[test_index]\n",
    "    Y_train, Y_test = Y[train_index], Y[test_index]"
   ]
  },
  {
   "cell_type": "code",
   "execution_count": null,
   "metadata": {},
   "outputs": [],
   "source": [
    "X_train.shape"
   ]
  },
  {
   "cell_type": "code",
   "execution_count": null,
   "metadata": {},
   "outputs": [],
   "source": [
    "X_test.shape"
   ]
  },
  {
   "cell_type": "code",
   "execution_count": null,
   "metadata": {},
   "outputs": [],
   "source": [
    "Y_train.shape"
   ]
  },
  {
   "cell_type": "code",
   "execution_count": null,
   "metadata": {},
   "outputs": [],
   "source": [
    "Y_test.shape"
   ]
  },
  {
   "cell_type": "markdown",
   "metadata": {},
   "source": [
    "#### Standard Scaler"
   ]
  },
  {
   "cell_type": "code",
   "execution_count": null,
   "metadata": {},
   "outputs": [],
   "source": [
    "#dimensione cada atributo no vetor de entrada X\n",
    "\n",
    "scaler = StandardScaler()\n",
    "scaler.fit(X_train)  # Não trapaceie - ajuste apenas nos dados de treinamento \n",
    "X_train = scaler.transform(X_train)\n",
    "X_test = scaler.transform(X_test)  # aplica a mesma transformação aos dados de teste"
   ]
  },
  {
   "cell_type": "markdown",
   "metadata": {},
   "source": [
    "<h1 style=\"font-size:2em;color:#2467C0\">Metrics:</h1>"
   ]
  },
  {
   "cell_type": "markdown",
   "metadata": {},
   "source": [
    "#### ROC curve"
   ]
  },
  {
   "cell_type": "code",
   "execution_count": null,
   "metadata": {},
   "outputs": [],
   "source": [
    "def plot_roc_curve(fpr, tpr):\n",
    "    plt.plot(fpr, tpr, color='orange', label='ROC')\n",
    "    plt.plot([0, 1], [0, 1], color='darkblue', linestyle='--')\n",
    "    plt.xlabel('False Positive Rate')\n",
    "    plt.ylabel('True Positive Rate')\n",
    "    plt.title('Receiver Operating Characteristic (ROC) Curve')\n",
    "    plt.legend()\n",
    "    plt.show()"
   ]
  },
  {
   "cell_type": "markdown",
   "metadata": {},
   "source": [
    "#### Precision-recall curve"
   ]
  },
  {
   "cell_type": "code",
   "execution_count": null,
   "metadata": {},
   "outputs": [],
   "source": [
    "def plot_precision_recall():\n",
    "    plt.step(recall, precision, color = 'b', alpha = 0.2,\n",
    "             where = 'post')\n",
    "    plt.fill_between(recall, precision, step ='post', alpha = 0.2,\n",
    "                 color = 'b')\n",
    "\n",
    "    plt.plot(recall, precision, linewidth=2)\n",
    "    plt.xlim([0.0,1])\n",
    "    plt.ylim([0.0,1.05])\n",
    "    plt.xlabel('Recall')\n",
    "    plt.ylabel('Precision')\n",
    "    plt.title('Precision Recall Curve')\n",
    "    plt.show();"
   ]
  },
  {
   "cell_type": "markdown",
   "metadata": {},
   "source": [
    "<h1 style=\"font-size:2em;color:#2467C0\">Tuning Models:</h1>"
   ]
  },
  {
   "cell_type": "markdown",
   "metadata": {},
   "source": [
    "#### Grid Search"
   ]
  },
  {
   "cell_type": "markdown",
   "metadata": {},
   "source": [
    "#### OBS: \n",
    "\n",
    "* O Naive Bayes não possui nenhum hiperparâmetro para ajustar."
   ]
  },
  {
   "cell_type": "markdown",
   "metadata": {},
   "source": [
    "#### Gaussian Naive Bayes"
   ]
  },
  {
   "cell_type": "code",
   "execution_count": null,
   "metadata": {},
   "outputs": [],
   "source": [
    "gnb = GaussianNB ()\n",
    "\n",
    "gnb = gnb.fit(X_train, Y_train)\n",
    "\n",
    "# Modelo prevendo os valores para o conjunto de teste\n",
    "Y_pred_gnb = gnb.predict(X_test)\n",
    "\n",
    "# Matriz de confusão\n",
    "print(\"Confusion matrix:\")\n",
    "print(confusion_matrix(Y_test, Y_pred_gnb))\n",
    "\n",
    "# Calculo Accuracy \n",
    "print(\"Accuracy:\", accuracy_score(Y_test, Y_pred_gnb))\n",
    "\n",
    "# Reportar para outras medidas de classificação\n",
    "print(\"Classification report:\")\n",
    "print(classification_report(Y_test, Y_pred_gnb))\n",
    "\n",
    "# ROC curve\n",
    "fpr_gnb, tpr_gnb, thresholds = roc_curve(Y_test, Y_pred_gnb) #Test and probability\n",
    "plot_roc_curve(fpr_gnb, tpr_gnb)\n",
    "\n",
    "auc = roc_auc_score(Y_test, Y_pred_gnb)\n",
    "print('AUC: %.2f' % auc)\n",
    "\n",
    "print('A área coberta pela curva é a área entre a linha laranja (ROC) e o eixo. Esta área coberta é AUC. Quanto maior a área coberta, melhor os modelos de aprendizado de máquina distinguem as classes dadas. O valor ideal para AUC é 1.')\n",
    "\n",
    "# Precision-recall curve\n",
    "print('Plot the Precision-Recall curve')\n",
    "precision, recall, thresholds = precision_recall_curve(Y_test, Y_pred_gnb) #Test and probability\n",
    "plot_precision_recall()"
   ]
  },
  {
   "cell_type": "markdown",
   "metadata": {},
   "source": [
    "#### KNeighbors Classifier"
   ]
  },
  {
   "cell_type": "code",
   "execution_count": null,
   "metadata": {},
   "outputs": [],
   "source": [
    "param_grid_knn = {\n",
    "    'n_neighbors': [3, 5, 10],\n",
    "    'weights': ['uniform', 'distance'],\n",
    "    'metric': ['euclidean', 'manhattan']\n",
    "}"
   ]
  },
  {
   "cell_type": "code",
   "execution_count": null,
   "metadata": {},
   "outputs": [],
   "source": [
    "knn = KNeighborsClassifier(n_neighbors=3, n_jobs=-1)\n",
    "knn = knn.fit(X_train, Y_train)\n",
    "\n",
    "gs_knn = GridSearchCV(estimator = knn, param_grid = param_grid_knn, scoring = 'f1', verbose = 10, n_jobs = -1)\n",
    "gs_knn = gs_knn.fit(X_train, Y_train)\n",
    "best_parameters = gs_knn.best_params_\n",
    "print(\"The best parameters for using this model KNN is\", best_parameters)"
   ]
  },
  {
   "cell_type": "markdown",
   "metadata": {},
   "source": [
    "#### KNeighbors Classifier - Best Parametrs"
   ]
  },
  {
   "cell_type": "code",
   "execution_count": null,
   "metadata": {},
   "outputs": [],
   "source": [
    "knn = KNeighborsClassifier(n_neighbors =3, weights ='distance', metric = 'euclidean', n_jobs = -1)\n",
    "\n",
    "knn = knn.fit(X_train, Y_train)\n",
    "\n",
    "# Modelo prevendo os valores para o conjunto de teste\n",
    "Y_pred_knn = knn.predict(X_test)\n",
    "\n",
    "# Matriz de confusão\n",
    "print(\"Confusion matrix:\")\n",
    "print(confusion_matrix(Y_test, Y_pred_knn))\n",
    "\n",
    "# Calculo Accuracy \n",
    "print(\"Accuracy:\", accuracy_score(Y_test, Y_pred_knn))\n",
    "\n",
    "# Reportar para outras medidas de classificação\n",
    "print(\"Classification report:\")\n",
    "print(classification_report(Y_test, Y_pred_knn))\n",
    "\n",
    "# ROC curve\n",
    "fpr_knn, tpr_knn, thresholds = roc_curve(Y_test, Y_pred_knn) #Test and probability\n",
    "plot_roc_curve(fpr_knn, tpr_knn)\n",
    "\n",
    "auc = roc_auc_score(Y_test, Y_pred_knn)\n",
    "print('AUC: %.2f' % auc)\n",
    "\n",
    "print('A área coberta pela curva é a área entre a linha laranja (ROC) e o eixo. Esta área coberta é AUC. Quanto maior a área coberta, melhor os modelos de aprendizado de máquina distinguem as classes dadas. O valor ideal para AUC é 1.')\n",
    "\n",
    "# Precision-recall curve\n",
    "print('Plot the Precision-Recall curve')\n",
    "precision, recall, thresholds = precision_recall_curve(Y_test, Y_pred_knn) #Test and probability\n",
    "plot_precision_recall()"
   ]
  },
  {
   "cell_type": "markdown",
   "metadata": {},
   "source": [
    "#### Decision Tree"
   ]
  },
  {
   "cell_type": "code",
   "execution_count": null,
   "metadata": {},
   "outputs": [],
   "source": [
    "param_grid_dtc = {\n",
    "    'max_features': [2, 3, 5, 10, 13, 15, 20, 23],\n",
    "    'min_samples_leaf': [2, 5, 10, 20],\n",
    "    'min_samples_split': [2, 5, 10, 20]\n",
    "}"
   ]
  },
  {
   "cell_type": "code",
   "execution_count": null,
   "metadata": {},
   "outputs": [],
   "source": [
    "dtc = tree.DecisionTreeClassifier(random_state=seed)\n",
    "dtc = dtc.fit(X_train, Y_train)\n",
    "\n",
    "gs_dtc = GridSearchCV(estimator = dtc, param_grid = param_grid_dtc, scoring = 'f1', verbose = 10, n_jobs = -1)\n",
    "gs_dtc = gs_dtc.fit(X_train, Y_train)\n",
    "best_parameters = gs_dtc.best_params_\n",
    "print(\"The best parameters for using this model DTC is\", best_parameters)"
   ]
  },
  {
   "cell_type": "markdown",
   "metadata": {},
   "source": [
    "#### Decision Tree - Best Parametrs"
   ]
  },
  {
   "cell_type": "code",
   "execution_count": null,
   "metadata": {},
   "outputs": [],
   "source": [
    "dtc = tree.DecisionTreeClassifier(max_features = 20, min_samples_leaf = 2, min_samples_split = 10, criterion = 'entropy', \n",
    "                                  class_weight = 'balanced', random_state = seed)\n",
    "\n",
    "dtc = dtc.fit(X_train, Y_train)\n",
    "\n",
    "# Modelo prevendo os valores para o conjunto de teste\n",
    "Y_pred_dtc = dtc.predict(X_test)\n",
    "\n",
    "# Matriz de confusão\n",
    "print(\"Confusion matrix:\")\n",
    "print(confusion_matrix(Y_test, Y_pred_dtc))\n",
    "\n",
    "# Calculo Accuracy \n",
    "print(\"Accuracy:\", accuracy_score(Y_test, Y_pred_dtc))\n",
    "\n",
    "# Reportar para outras medidas de classificação\n",
    "print(\"Classification report:\")\n",
    "print(classification_report(Y_test, Y_pred_dtc))\n",
    "\n",
    "# ROC curve\n",
    "fpr_dtc, tpr_dtc, thresholds = roc_curve(Y_test, Y_pred_dtc) #Test and probability\n",
    "plot_roc_curve(fpr_dtc, tpr_dtc)\n",
    "\n",
    "auc = roc_auc_score(Y_test, Y_pred_dtc)\n",
    "print('AUC: %.2f' % auc)\n",
    "\n",
    "print('A área coberta pela curva é a área entre a linha laranja (ROC) e o eixo. Esta área coberta é AUC. Quanto maior a área coberta, melhor os modelos de aprendizado de máquina distinguem as classes dadas. O valor ideal para AUC é 1.')\n",
    "\n",
    "# Precision-recall curve\n",
    "print('Plot the Precision-Recall curve')\n",
    "precision, recall, thresholds = precision_recall_curve(Y_test, Y_pred_dtc) #Test and probability\n",
    "plot_precision_recall()"
   ]
  },
  {
   "cell_type": "markdown",
   "metadata": {},
   "source": [
    "#### Random Forest Classifier"
   ]
  },
  {
   "cell_type": "code",
   "execution_count": null,
   "metadata": {},
   "outputs": [],
   "source": [
    "param_grid_rfc = {\n",
    "    'n_estimators': [50, 100, 200, 300],\n",
    "    'max_features': [2, 3, 5, 10, 13, 15, 20, 23],\n",
    "    'min_samples_leaf': [2, 5, 10, 20],\n",
    "    'min_samples_split': [2, 5, 10, 20]\n",
    "}"
   ]
  },
  {
   "cell_type": "code",
   "execution_count": null,
   "metadata": {
    "scrolled": true
   },
   "outputs": [],
   "source": [
    "# Ajustar o modelo usando X como dados de treinamento e y como valores de destino\n",
    "rf_clf = RandomForestClassifier(n_estimators=100, random_state=seed, n_jobs=-1)\n",
    "rf_clf = rf_clf.fit(X_train, Y_train)\n",
    "\n",
    "gs_rfc = GridSearchCV(estimator = rf_clf, param_grid = param_grid_rfc, scoring = 'recall', verbose = 10, n_jobs = -1)\n",
    "gs_rfc = gs_rfc.fit(X_train, Y_train)\n",
    "best_parameters = gs_rfc.best_params_\n",
    "print(\"The best parameters for using this model RFC is\", best_parameters)"
   ]
  },
  {
   "cell_type": "markdown",
   "metadata": {},
   "source": [
    "#### Random Forest Classifier - Best Parametrs"
   ]
  },
  {
   "cell_type": "code",
   "execution_count": null,
   "metadata": {
    "scrolled": false
   },
   "outputs": [],
   "source": [
    "# Ajustar o modelo usando X como dados de treinamento e y como valores de destino\n",
    "rfc = RandomForestClassifier(n_estimators = 100, max_features = 23, min_samples_leaf = 30, min_samples_split = 30, \n",
    "                             criterion = 'entropy', class_weight = 'balanced', random_state = seed, n_jobs = -1)\n",
    "                                \n",
    "rfc = rfc.fit(X_train, Y_train)\n",
    "\n",
    "# Modelo prevendo os valores para o conjunto de teste\n",
    "Y_pred_rfc = rfc.predict(X_test)\n",
    "\n",
    "# Matriz de confusão\n",
    "print(\"Confusion matrix:\")\n",
    "print(confusion_matrix(Y_test, Y_pred_rfc))\n",
    "\n",
    "# Calculo Accuracy \n",
    "print(\"Accuracy:\", accuracy_score(Y_test, Y_pred_rfc))\n",
    "\n",
    "# Reportar para outras medidas de classificação\n",
    "print(\"Classification report:\")\n",
    "print(classification_report(Y_test, Y_pred_rfc))\n",
    "\n",
    "# ROC curve\n",
    "fpr_rfc, tpr_rfc, thresholds = roc_curve(Y_test, Y_pred_rfc) #Test and probability\n",
    "plot_roc_curve(fpr_rfc, tpr_rfc)\n",
    "\n",
    "auc = roc_auc_score(Y_test, Y_pred_rfc)\n",
    "print('AUC: %.2f' % auc)\n",
    "\n",
    "print('A área coberta pela curva é a área entre a linha laranja (ROC) e o eixo. Esta área coberta é AUC. Quanto maior a área coberta, melhor os modelos de aprendizado de máquina distinguem as classes dadas. O valor ideal para AUC é 1.')\n",
    "\n",
    "# Precision-recall curve\n",
    "print('Plot the Precision-Recall curve')\n",
    "precision, recall, thresholds = precision_recall_curve(Y_test, Y_pred_rfc) #Test and probability\n",
    "plot_precision_recall()"
   ]
  },
  {
   "cell_type": "code",
   "execution_count": null,
   "metadata": {},
   "outputs": [],
   "source": [
    "filename = 'chat_gnb.sav'\n",
    "pickle.dump(gnb, open(filename, 'wb'))"
   ]
  },
  {
   "cell_type": "code",
   "execution_count": null,
   "metadata": {},
   "outputs": [],
   "source": [
    "filename = 'chat_knn.sav'\n",
    "pickle.dump(knn, open(filename, 'wb'))"
   ]
  },
  {
   "cell_type": "code",
   "execution_count": null,
   "metadata": {},
   "outputs": [],
   "source": [
    "filename = 'chat_dtc.sav'\n",
    "pickle.dump(dtc, open(filename, 'wb'))"
   ]
  },
  {
   "cell_type": "code",
   "execution_count": null,
   "metadata": {},
   "outputs": [],
   "source": [
    "filename = 'chat_rfc.sav'\n",
    "pickle.dump(rfc, open(filename, 'wb'))"
   ]
  }
 ],
 "metadata": {
  "kernelspec": {
   "display_name": "Python 3 (ipykernel)",
   "language": "python",
   "name": "python3"
  },
  "language_info": {
   "codemirror_mode": {
    "name": "ipython",
    "version": 3
   },
   "file_extension": ".py",
   "mimetype": "text/x-python",
   "name": "python",
   "nbconvert_exporter": "python",
   "pygments_lexer": "ipython3",
   "version": "3.9.7"
  }
 },
 "nbformat": 4,
 "nbformat_minor": 2
}
